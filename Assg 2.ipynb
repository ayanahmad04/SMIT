{
 "cells": [
  {
   "cell_type": "markdown",
   "id": "637ef3d2",
   "metadata": {},
   "source": [
    "1) Area of a Rectangle:\n",
    "\n",
    "Write a Python program to calculate the area of a rectangle."
   ]
  },
  {
   "cell_type": "code",
   "execution_count": null,
   "id": "7346d63e",
   "metadata": {},
   "outputs": [],
   "source": [
    "length = float(input(\"Enter the length of the rectangle: \"))\n",
    "width = float(input(\"Enter the width of the rectangle: \"))\n",
    "area = length * width\n",
    "print(f\"The area of the rectangle is {area}\")"
   ]
  },
  {
   "cell_type": "markdown",
   "id": "32a6c481",
   "metadata": {},
   "source": [
    "2) Circumference of a Circle:\n",
    "\n",
    "Write a Python program to calculate the circumference of a circle."
   ]
  },
  {
   "cell_type": "code",
   "execution_count": null,
   "id": "965336db",
   "metadata": {},
   "outputs": [],
   "source": [
    "import math\n",
    "radius = float(input(\"Enter the radius of the circle: \"))\n",
    "circumference = 2 * math.pi * radius\n",
    "print(f\"The circumference of the circle is {circumference}\")"
   ]
  },
  {
   "cell_type": "markdown",
   "id": "9efc3e26",
   "metadata": {},
   "source": [
    "3) Simple Interest:\n",
    "\n",
    "Write a Python program to calculate the simple interest."
   ]
  },
  {
   "cell_type": "code",
   "execution_count": null,
   "id": "efc9d7cf",
   "metadata": {},
   "outputs": [],
   "source": [
    "principal = float(input(\"Enter the principal amount: \"))\n",
    "rate = float(input(\"Enter the interest rate: \"))\n",
    "time = float(input(\"Enter the time (in years): \"))\n",
    "simple_interest = (principal * rate * time) / 100\n",
    "print(f\"The simple interest is {simple_interest}\")"
   ]
  },
  {
   "cell_type": "markdown",
   "id": "3719bb45",
   "metadata": {},
   "source": [
    "4) Speed of an Object:\n",
    "\n",
    "Write a Python program to calculate the speed of an object."
   ]
  },
  {
   "cell_type": "code",
   "execution_count": null,
   "id": "27465adf",
   "metadata": {},
   "outputs": [],
   "source": [
    "distance = float(input(\"Enter the distance covered: \"))\n",
    "time_taken = float(input(\"Enter the time taken: \"))\n",
    "speed = distance / time_taken\n",
    "print(f\"The speed of the object is {speed}\")"
   ]
  },
  {
   "cell_type": "markdown",
   "id": "0a4239b1",
   "metadata": {},
   "source": [
    "5) BMI Calculator:\n",
    "\n",
    "Write a Python program to calculate the Body Mass Index (BMI)."
   ]
  },
  {
   "cell_type": "code",
   "execution_count": null,
   "id": "7ee504e3",
   "metadata": {},
   "outputs": [],
   "source": [
    "weight = float(input(\"Enter weight in kg: \"))\n",
    "height = float(input(\"Enter height in meters: \"))\n",
    "BMI = weight / (height ** 2)\n",
    "print(f\"The Body Mass Index (BMI) is {BMI}\")"
   ]
  },
  {
   "cell_type": "markdown",
   "id": "697f0439",
   "metadata": {},
   "source": [
    "6) Force (Newton's Second Law):\n",
    "\n",
    "Write a Python program to calculate the force on an object."
   ]
  },
  {
   "cell_type": "code",
   "execution_count": null,
   "id": "14c4f687",
   "metadata": {},
   "outputs": [],
   "source": [
    "mass = float(input(\"Enter mass in kg: \"))\n",
    "acceleration = float(input(\"Enter acceleration in m/s^2: \"))\n",
    "force = mass * acceleration\n",
    "print(f\"The force is {force}\")"
   ]
  },
  {
   "cell_type": "markdown",
   "id": "c2ae91f3",
   "metadata": {},
   "source": [
    "7) Compound Interest:\n",
    "\n",
    "Write a Python program to calculate compound interest."
   ]
  },
  {
   "cell_type": "code",
   "execution_count": null,
   "id": "e7c4919c",
   "metadata": {},
   "outputs": [],
   "source": [
    "P = float(input(\"Enter the principal amount: \"))\n",
    "r = float(input(\"Enter the annual interest rate (as a decimal): \"))\n",
    "n = int(input(\"Enter the number of times interest applied per year: \"))\n",
    "t = float(input(\"Enter the time in years: \"))\n",
    "A = P * (1 + r / n) ** (n * t)\n",
    "print(f\"The compound interest is {A}\")"
   ]
  },
  {
   "cell_type": "markdown",
   "id": "cd1269cc",
   "metadata": {},
   "source": [
    "8) Perimeter of a Triangle:\n",
    "\n",
    "Write a Python program to calculate the perimeter of a triangle."
   ]
  },
  {
   "cell_type": "code",
   "execution_count": null,
   "id": "3f779d81",
   "metadata": {},
   "outputs": [],
   "source": [
    "a = float(input(\"Enter side a: \"))\n",
    "b = float(input(\"Enter side b: \"))\n",
    "c = float(input(\"Enter side c: \"))\n",
    "perimeter = a + b + c\n",
    "print(f\"The perimeter of the triangle is {perimeter}\")"
   ]
  },
  {
   "cell_type": "markdown",
   "id": "f8001bc5",
   "metadata": {},
   "source": [
    "9) Volume of a Sphere:\n",
    "\n",
    "Write a Python program to calculate the volume of a sphere."
   ]
  },
  {
   "cell_type": "code",
   "execution_count": null,
   "id": "d5efad9f",
   "metadata": {},
   "outputs": [],
   "source": [
    "r = float(input(\"Enter the radius of the sphere: \"))\n",
    "volume = (4 / 3) * math.pi * (r ** 3)\n",
    "print(f\"The volume of the sphere is {volume}\")"
   ]
  },
  {
   "cell_type": "markdown",
   "id": "d752c5b6",
   "metadata": {},
   "source": [
    "10) Kinetic Energy:\n",
    "\n",
    "Write a Python program to calculate the kinetic energy of an object."
   ]
  },
  {
   "cell_type": "code",
   "execution_count": null,
   "id": "2171b040",
   "metadata": {},
   "outputs": [],
   "source": [
    "mass = float(input(\"Enter mass in kg: \"))\n",
    "velocity = float(input(\"Enter velocity in m/s: \"))\n",
    "KE = 0.5 * mass * (velocity ** 2)\n",
    "print(f\"The kinetic energy is {KE}\")"
   ]
  },
  {
   "cell_type": "markdown",
   "id": "052362b1",
   "metadata": {},
   "source": [
    "11) Quadratic Equation Roots:\n",
    "\n",
    "Write a Python program to find the roots of a quadratic equation."
   ]
  },
  {
   "cell_type": "code",
   "execution_count": null,
   "id": "151e71af",
   "metadata": {},
   "outputs": [],
   "source": [
    "a = float(input(\"Enter coefficient a: \"))\n",
    "b = float(input(\"Enter coefficient b: \"))\n",
    "c = float(input(\"Enter coefficient c: \"))\n",
    "discriminant = b**2 - 4*a*c\n",
    "if discriminant >= 0:\n",
    "    root1 = (-b + math.sqrt(discriminant)) / (2 * a)\n",
    "    root2 = (-b - math.sqrt(discriminant)) / (2 * a)\n",
    "    print(f\"The roots are {root1} and {root2}\")\n",
    "else:\n",
    "    print(\"Complex roots\")"
   ]
  },
  {
   "cell_type": "markdown",
   "id": "e6ce80e6",
   "metadata": {},
   "source": [
    "12) Temperature Conversion:\n",
    "\n",
    "Write a Python program to convert temperature from Celsius to Fahrenheit."
   ]
  },
  {
   "cell_type": "code",
   "execution_count": null,
   "id": "faeda0f6",
   "metadata": {},
   "outputs": [],
   "source": [
    "celsius = float(input(\"Enter temperature in Celsius: \"))\n",
    "fahrenheit = (celsius * 9/5) + 32\n",
    "print(f\"Temperature in Fahrenheit is {fahrenheit}\")"
   ]
  },
  {
   "cell_type": "markdown",
   "id": "77ffd957",
   "metadata": {},
   "source": [
    "13) Gravitational Force:\n",
    "\n",
    "Write a Python program to calculate the gravitational force between two objects."
   ]
  },
  {
   "cell_type": "code",
   "execution_count": null,
   "id": "930c4849",
   "metadata": {},
   "outputs": [],
   "source": [
    "G = 6.674 * (10**-11)\n",
    "m1 = float(input(\"Enter mass 1 in kg: \"))\n",
    "m2 = float(input(\"Enter mass 2 in kg: \"))\n",
    "r = float(input(\"Enter distance in meters: \"))\n",
    "F = G * (m1 * m2) / (r**2)\n",
    "print(f\"Gravitational force is {F}\")"
   ]
  },
  {
   "cell_type": "markdown",
   "id": "806105cb",
   "metadata": {},
   "source": [
    "14) Volume of a Cylinder:\n",
    "\n",
    "Write a Python program to calculate the volume of a cylinder."
   ]
  },
  {
   "cell_type": "code",
   "execution_count": null,
   "id": "3973a7ae",
   "metadata": {},
   "outputs": [],
   "source": [
    "r = float(input(\"Enter radius of cylinder: \"))\n",
    "h = float(input(\"Enter height: \"))\n",
    "volume = math.pi * r**2 * h\n",
    "print(f\"Volume of cylinder is {volume}\")"
   ]
  },
  {
   "cell_type": "markdown",
   "id": "41e4376c",
   "metadata": {},
   "source": [
    "15) Pressure:\n",
    "\n",
    "Write a Python program to calculate the pressure exerted by a force on a surface."
   ]
  },
  {
   "cell_type": "code",
   "execution_count": null,
   "id": "884e7598",
   "metadata": {},
   "outputs": [],
   "source": [
    "F = float(input(\"Enter force: \"))\n",
    "A = float(input(\"Enter area: \"))\n",
    "P = F / A\n",
    "print(f\"Pressure is {P}\")"
   ]
  },
  {
   "cell_type": "markdown",
   "id": "42d527e7",
   "metadata": {},
   "source": [
    "16) Electric Power:\n",
    "\n",
    "Write a Python program to calculate the electric power consumed."
   ]
  },
  {
   "cell_type": "code",
   "execution_count": null,
   "id": "cfc8538e",
   "metadata": {},
   "outputs": [],
   "source": [
    "V = float(input(\"Enter voltage: \"))\n",
    "I = float(input(\"Enter current: \"))\n",
    "P = V * I\n",
    "print(f\"Electric power is {P}\")"
   ]
  },
  {
   "cell_type": "markdown",
   "id": "75aaef6d",
   "metadata": {},
   "source": [
    "17) Perimeter of a Circle:\n",
    "\n",
    "Write a Python program to calculate the perimeter of a circle."
   ]
  },
  {
   "cell_type": "code",
   "execution_count": null,
   "id": "cfb4b121",
   "metadata": {},
   "outputs": [],
   "source": [
    "r = float(input(\"Enter radius: \"))\n",
    "circumference = 2 * math.pi * r\n",
    "print(f\"Circumference is {circumference}\")"
   ]
  },
  {
   "cell_type": "markdown",
   "id": "22e5c86f",
   "metadata": {},
   "source": [
    "18) Future Value in Savings:\n",
    "\n",
    "Write a Python program to calculate the future value of an investment."
   ]
  },
  {
   "cell_type": "code",
   "execution_count": null,
   "id": "965b386d",
   "metadata": {},
   "outputs": [],
   "source": [
    "PV = float(input(\"Enter present value: \"))\n",
    "r = float(input(\"Enter rate: \"))\n",
    "t = float(input(\"Enter time: \"))\n",
    "FV = PV * (1 + r)**t\n",
    "print(f\"Future value is {FV}\")"
   ]
  },
  {
   "cell_type": "markdown",
   "id": "2d777f3d",
   "metadata": {},
   "source": [
    "19) Work Done by a Force:\n",
    "\n",
    "Write a Python program to calculate the work done by a force."
   ]
  },
  {
   "cell_type": "code",
   "execution_count": null,
   "id": "9a00e264",
   "metadata": {},
   "outputs": [],
   "source": [
    "f = float(input(\"Enter force: \"))\n",
    "d = float(input(\"Enter distance: \"))\n",
    "theta = float(input(\"Enter angle: \"))\n",
    "W = f * d * math.cos(math.radians(theta))\n",
    "print(f\"Work done is {W}\")"
   ]
  },
  {
   "cell_type": "markdown",
   "id": "f94b09bd",
   "metadata": {},
   "source": [
    "20) Heat Transfer:\n",
    "\n",
    "Write a Python program to calculate the amount of heat transferred."
   ]
  },
  {
   "cell_type": "code",
   "execution_count": null,
   "id": "db52d0d1",
   "metadata": {},
   "outputs": [],
   "source": [
    "m = float(input(\"Enter mass: \"))\n",
    "c = float(input(\"Enter specific heat: \"))\n",
    "T = float(input(\"Enter temperature change: \"))\n",
    "Q = m * c * T\n",
    "print(f\"Heat transfer is {Q}\")"
   ]
  }
 ],
 "metadata": {
  "kernelspec": {
   "display_name": "Python 3 (ipykernel)",
   "language": "python",
   "name": "python3"
  },
  "language_info": {
   "codemirror_mode": {
    "name": "ipython",
    "version": 3
   },
   "file_extension": ".py",
   "mimetype": "text/x-python",
   "name": "python",
   "nbconvert_exporter": "python",
   "pygments_lexer": "ipython3",
   "version": "3.12.7"
  }
 },
 "nbformat": 4,
 "nbformat_minor": 5
}
