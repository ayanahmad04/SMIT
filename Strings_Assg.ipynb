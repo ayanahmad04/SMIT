{
 "cells": [
  {
   "cell_type": "markdown",
   "id": "86c66457",
   "metadata": {},
   "source": [
    "1. Write a program that accepts a string from user. Your program should count and display the number of vowels in that string."
   ]
  },
  {
   "cell_type": "code",
   "execution_count": null,
   "id": "92da343a",
   "metadata": {},
   "outputs": [],
   "source": [
    "\n",
    "string = input(\"Enter a string: \").lower()\n",
    "vowels = \"aeiou\"\n",
    "vowel_count = sum(1 for char in string if char in vowels)\n",
    "print(\"Number of vowels:\", vowel_count)\n",
    "    "
   ]
  },
  {
   "cell_type": "markdown",
   "id": "ae46c4bc",
   "metadata": {},
   "source": [
    "2. Write a program that reads a string from keyboard and display:\n",
    "   * The number of uppercase letters in the string\n",
    "   * The number of lowercase letters in the string\n",
    "   * The number of digits in the string\n",
    "   * The number of whitespace characters in the string"
   ]
  },
  {
   "cell_type": "code",
   "execution_count": null,
   "id": "e43df45b",
   "metadata": {},
   "outputs": [],
   "source": [
    "\n",
    "string = input(\"Enter a string: \")\n",
    "uppercase_count = sum(1 for char in string if char.isupper())\n",
    "lowercase_count = sum(1 for char in string if char.islower())\n",
    "digit_count = sum(1 for char in string if char.isdigit())\n",
    "whitespace_count = sum(1 for char in string if char.isspace())\n",
    "print(f\"Uppercase letters: {uppercase_count}, Lowercase letters: {lowercase_count}, Digits: {digit_count}, Whitespaces: {whitespace_count}\")\n",
    "    "
   ]
  },
  {
   "cell_type": "markdown",
   "id": "d388c5c0",
   "metadata": {},
   "source": [
    "3. Write a Python program that accepts a string from user. Your program should create and display a new string where the first and last characters have been exchanged.\n",
    "   For example, if the user enters the string 'HELLO' then new string would be 'OELLH'."
   ]
  },
  {
   "cell_type": "code",
   "execution_count": null,
   "id": "027f3770",
   "metadata": {},
   "outputs": [],
   "source": [
    "\n",
    "string = input(\"Enter a string: \")\n",
    "if len(string) < 2:\n",
    "    print(\"String too short to swap characters.\")\n",
    "else:\n",
    "    new_string = string[-1] + string[1:-1] + string[0]\n",
    "    print(\"New string:\", new_string)\n",
    "    "
   ]
  },
  {
   "cell_type": "markdown",
   "id": "0d2db8ce",
   "metadata": {},
   "source": [
    "4. Write a Python program that accepts a string from user. Your program should create a new string in reverse of the first string and display it.\n",
    "   For example, if the user enters the string 'EXAM' then new string would be 'MAXE'."
   ]
  },
  {
   "cell_type": "code",
   "execution_count": null,
   "id": "809bcda8",
   "metadata": {},
   "outputs": [],
   "source": [
    "\n",
    "string = input(\"Enter a string: \")\n",
    "reversed_string = string[::-1]\n",
    "print(\"Reversed string:\", reversed_string)\n",
    "    "
   ]
  },
  {
   "cell_type": "markdown",
   "id": "d6ecdd1c",
   "metadata": {},
   "source": [
    "5. Write a Python program that accepts a string from user. Your program should create a new string by shifting one position to the left.\n",
    "   For example, if the user enters the string 'examination 2021' then new string would be 'xamination 2021e'."
   ]
  },
  {
   "cell_type": "code",
   "execution_count": null,
   "id": "a8f98bf0",
   "metadata": {},
   "outputs": [],
   "source": [
    "\n",
    "string = input(\"Enter a string: \")\n",
    "shifted_string = string[1:] + string[0]\n",
    "print(\"Shifted string:\", shifted_string)\n",
    "    "
   ]
  },
  {
   "cell_type": "markdown",
   "id": "b7e9f1dc",
   "metadata": {},
   "source": [
    "6. Write a program that asks the user to input his name and print its initials. Assuming that the user always types first name, middle name, and last name and does not include any unnecessary spaces.\n",
    "   For example, if the user enters Ajay Kumar Garg the program should display A. K. G.\n",
    "   Note: Don't use split() method."
   ]
  },
  {
   "cell_type": "code",
   "execution_count": null,
   "id": "24bdc18d",
   "metadata": {},
   "outputs": [],
   "source": [
    "\n",
    "name = input(\"Enter your full name: \")\n",
    "initials = ''.join([part[0].upper() + '. ' for part in name.split()])\n",
    "print(\"Initials:\", initials.strip())\n",
    "    "
   ]
  },
  {
   "cell_type": "markdown",
   "id": "019d07bb",
   "metadata": {},
   "source": [
    "7. A palindrome is a string that reads the same backward as forward. For example, the words dad, madam, and radar are all palindromes. Write a program that determines whether the string is a palindrome.\n",
    "   Note: do not use reverse() method."
   ]
  },
  {
   "cell_type": "code",
   "execution_count": null,
   "id": "2f1f4ce4",
   "metadata": {},
   "outputs": [],
   "source": [
    "\n",
    "string = input(\"Enter a string: \")\n",
    "is_palindrome = string == string[::-1]\n",
    "print(\"The string is a palindrome.\" if is_palindrome else \"The string is not a palindrome.\")\n",
    "    "
   ]
  },
  {
   "cell_type": "markdown",
   "id": "66ba5640",
   "metadata": {},
   "source": [
    "8. Write a program that displays the following output:\n",
    "   SHIFT\n",
    "   HIFTS\n",
    "   IFTSH\n",
    "   FTSHI\n",
    "   TSHIF\n",
    "   SHIFT"
   ]
  },
  {
   "cell_type": "code",
   "execution_count": null,
   "id": "8f740685",
   "metadata": {},
   "outputs": [],
   "source": [
    "\n",
    "string = \"SHIFT\"\n",
    "for i in range(len(string)):\n",
    "    print(string[i:] + string[:i])\n",
    "    "
   ]
  },
  {
   "cell_type": "markdown",
   "id": "97b786a3",
   "metadata": {},
   "source": [
    "9. Write a program in Python that accepts a string to set up a password. Your entered password must meet the following requirements:\n",
    "   * The password must be at least eight characters long.\n",
    "   * It must contain at least one uppercase letter.\n",
    "   * It must contain at least one lowercase letter.\n",
    "   * It must contain at least one numeric digit.\n",
    "   Your program should perform this validation."
   ]
  },
  {
   "cell_type": "code",
   "execution_count": null,
   "id": "565ea976",
   "metadata": {},
   "outputs": [],
   "source": [
    "\n",
    "password = input(\"Enter your password: \")\n",
    "if len(password) >= 8 and any(char.isupper() for char in password) and any(char.islower() for char in password) and any(char.isdigit() for char in password):\n",
    "    print(\"Password is valid.\")\n",
    "else:\n",
    "    print(\"Password is invalid.\")\n",
    "    "
   ]
  }
 ],
 "metadata": {
  "kernelspec": {
   "display_name": "Python 3 (ipykernel)",
   "language": "python",
   "name": "python3"
  },
  "language_info": {
   "codemirror_mode": {
    "name": "ipython",
    "version": 3
   },
   "file_extension": ".py",
   "mimetype": "text/x-python",
   "name": "python",
   "nbconvert_exporter": "python",
   "pygments_lexer": "ipython3",
   "version": "3.12.7"
  }
 },
 "nbformat": 4,
 "nbformat_minor": 5
}
