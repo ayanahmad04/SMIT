{
 "cells": [
  {
   "cell_type": "markdown",
   "id": "33a35345-6d5e-4de2-9837-114ae32a6c78",
   "metadata": {},
   "source": [
    "# 1. Write a Python program to create a class called \"Person\" with properties for name, age and country. Include a method to display the person's details. Create two instances of the 'Person' class and display their details. \n"
   ]
  },
  {
   "cell_type": "code",
   "execution_count": 2,
   "id": "2510b078-061d-45cb-a5b0-a79015f913c2",
   "metadata": {},
   "outputs": [
    {
     "name": "stdout",
     "output_type": "stream",
     "text": [
      "ayan is 20 years old and lives in Pakistan\n",
      "moosa is 19 years old and lives in Pakistan\n"
     ]
    }
   ],
   "source": [
    "class Person():\n",
    "    def __init__(self,name,age,country):\n",
    "        self.name = name\n",
    "        self.age = age\n",
    "        self.country = country\n",
    "    def details(self):\n",
    "        return f'{self.name} is {self.age} years old and lives in {self.country}'\n",
    "\n",
    "p1=Person('ayan','20','Pakistan')\n",
    "print(p1.details())\n",
    "p2=Person('moosa','19','Pakistan')\n",
    "print(p2.details())"
   ]
  },
  {
   "cell_type": "markdown",
   "id": "49b7243e-2b4d-4b0e-87e7-684390d56fac",
   "metadata": {},
   "source": [
    "# 2. Write a Python program to create a class called 'Rectangle' with properties for width and height. Include two methods to calculate rectangle area and perimeter. Create an instance of the 'Rectangle' class and calculate its area and perimeter. \n"
   ]
  },
  {
   "cell_type": "code",
   "execution_count": 56,
   "id": "f802f8ee-bcdf-4379-b522-3f2b86d84c9e",
   "metadata": {},
   "outputs": [
    {
     "name": "stdout",
     "output_type": "stream",
     "text": [
      "Area : 238 m²\n",
      "Perimeter : 75 m\n"
     ]
    }
   ],
   "source": [
    "class Rectangle():\n",
    "    def __init__(self,width,height):\n",
    "        self.height=height\n",
    "        self.width=width\n",
    "    def area(self):\n",
    "        return f'Area : {self.width * self.height} m²'\n",
    "    def perimeter(self):\n",
    "        return f'Perimeter : {2 * self.width + self.height} m'\n",
    "r = Rectangle(34,7)\n",
    "print(r.area())\n",
    "print(r.perimeter())"
   ]
  },
  {
   "cell_type": "markdown",
   "id": "d15dd40f-be9f-4b05-a8cd-1bdd8639993b",
   "metadata": {},
   "source": [
    "# 3. Write a Python program that creates a class called 'Vehicle' with properties for make, model, and year. Include a method to display vehicle details. Create a subclass called 'Car' that inherits from the 'Vehicle' class and includes an additional property for the number of doors. Override the display method to include the number of doors. \n"
   ]
  },
  {
   "cell_type": "code",
   "execution_count": 13,
   "id": "d41f01e3-53fa-4aa9-9652-79931f1e7fe6",
   "metadata": {},
   "outputs": [
    {
     "name": "stdout",
     "output_type": "stream",
     "text": [
      "Honda Civic 2023 has 4 doors\n"
     ]
    }
   ],
   "source": [
    "class Vehicle():\n",
    "    def __init__(self,make,model,year):\n",
    "        self.make = make\n",
    "        self.model = model\n",
    "        self.year = year\n",
    "    def details(self):\n",
    "        return f'{self.make} {self.model} {self.year}'\n",
    "class Car(Vehicle):\n",
    "    def __init__(self,make,model,year,door):\n",
    "        super().__init__(make,model,year)\n",
    "        self.door = door\n",
    "    def details(self):\n",
    "        return f'{self.make} {self.model} {self.year} has {self.door} doors'\n",
    "v=Vehicle('Honda','Civic','2023')\n",
    "c=Car('Honda','Civic','2023','4')\n",
    "print(c.details())\n",
    "        \n",
    "\n",
    "        "
   ]
  },
  {
   "cell_type": "markdown",
   "id": "292ced9f-b807-4d62-99d1-839d6657c119",
   "metadata": {},
   "source": [
    "# 4. Write a Python program that creates a class called \"BankAccount\" with properties for account number and balance. Include methods to deposit and withdraw money from the account. Create some instances of the \"BankAccount\" class, deposit some money, and withdraw a portion of it. "
   ]
  },
  {
   "cell_type": "code",
   "execution_count": 24,
   "id": "cab5c351-b4e2-40d7-915c-47cd2f351ab6",
   "metadata": {},
   "outputs": [
    {
     "name": "stdout",
     "output_type": "stream",
     "text": [
      "1000 has been deposited. \n",
      "Account Balance:1000\n",
      "500 has been withrawn. \n",
      "Account Balance:500\n"
     ]
    }
   ],
   "source": [
    "class BankAccount():\n",
    "    def __init__(self,ac_no):\n",
    "        self.ac_no = ac_no\n",
    "        self.balance = 0\n",
    "    def deposit(self,amount):\n",
    "        self.amount = amount\n",
    "        self.balance = self.balance + self.amount\n",
    "        return f'{self.amount} has been deposited. \\nAccount Balance:{self.balance}'\n",
    "    def withdraw(self,amountt):\n",
    "        self.amountt=amountt\n",
    "        if (self.balance >= self.amountt):\n",
    "            self.balance = self.balance - self.amountt\n",
    "            return f'{self.amountt} has been withrawn. \\nAccount Balance:{self.balance}'\n",
    "        else:\n",
    "            return 'Insufficient Balance'\n",
    "b=BankAccount(123)\n",
    "print(b.deposit(1000))\n",
    "print(b.withdraw(500))\n",
    "        \n",
    "        "
   ]
  },
  {
   "cell_type": "markdown",
   "id": "04124f6d-550a-4c64-b39e-bbcdcc8f56d9",
   "metadata": {},
   "source": [
    "# 5. Write a Python program that creates a class called 'Shape' with a method to calculate the area. Create two subclasses, 'Circle' and 'Triangle', that inherit from the 'Shape' class and override the area calculation method. Create an instance of the 'Circle' class and calculate its area.Similarly, do the same for the 'Triangle' class. \n"
   ]
  },
  {
   "cell_type": "code",
   "execution_count": 30,
   "id": "3b4cf970-ad2c-46b0-9ca6-0a2a81b33661",
   "metadata": {},
   "outputs": [
    {
     "data": {
      "text/plain": [
       "'7855.0 m²'"
      ]
     },
     "execution_count": 30,
     "metadata": {},
     "output_type": "execute_result"
    }
   ],
   "source": [
    "import math\n",
    "class Shape():\n",
    "    def __init__(self):\n",
    "        pass\n",
    "class Circle (Shape):\n",
    "    def __init__(self,radius):\n",
    "        self.radius = radius\n",
    "    def area(self):\n",
    "        return f'{3.142 * (self.radius**2)} m²'\n",
    "class Triangle(Shape):\n",
    "    def __init__(self,base,height):\n",
    "        self.base = base\n",
    "        self.height = height \n",
    "    def area(self):\n",
    "        return f'{0.5 * (self.base*self.height)} m²'\n",
    "\n",
    "c=Circle(50)\n",
    "c.area()"
   ]
  },
  {
   "cell_type": "markdown",
   "id": "ffd20b10-abfe-4656-a713-9750e42e52e7",
   "metadata": {},
   "source": [
    "# 6. Write a Python program that creates a class called 'Employee' with properties for name and salary. Include a method to calculate annual salary. Create a subclass called 'Manager' that inherits from the 'Employee' class and adds an additional property for department. Override the annual salary calculation method to include bonuses for managers. Create two instances of the 'Manager' class and calculate their annual salary. "
   ]
  },
  {
   "cell_type": "code",
   "execution_count": 61,
   "id": "cb168f3f-e8da-4647-a7a5-ef9a2e6c1d5e",
   "metadata": {},
   "outputs": [
    {
     "name": "stdout",
     "output_type": "stream",
     "text": [
      "Annual Salary : 1440000\n",
      "Bonus : 360000\n",
      "Annual Salary : 60000\n",
      "Bonus : 15000\n"
     ]
    }
   ],
   "source": [
    "class Employee ():\n",
    "    def __init__(self,name,salary):\n",
    "        self.name = name\n",
    "        self.salary = salary \n",
    "    def annual_salary(self):\n",
    "        return f'Annual Salary : {self.salary * 12}'\n",
    "\n",
    "class Manager (Employee):\n",
    "    def __init__(self,name,salary,dept):\n",
    "        super().__init__(name,salary)\n",
    "        self.dept = dept\n",
    "    def annual_salary(self):\n",
    "        return f'Annual Salary : {self.salary*12}\\nBonus : {self.salary * 3}'\n",
    "\n",
    "m=Manager('Imran',120000,'QC')\n",
    "print(m.annual_salary())\n",
    "m1=Manager('Ayan',5000,'QC')\n",
    "print(m1.annual_salary())"
   ]
  },
  {
   "cell_type": "markdown",
   "id": "1a09c350-d4e6-4cf8-93f2-1f86d2a9dc8d",
   "metadata": {},
   "source": [
    "# 7. Write a Python program that creates a class `Book` with properties for title, author, and publication year. Include a method to display book details. Create a subclass called 'Ebook' that inherits from the 'Book' class and includes an additional property for book price. Override the display method to include the book price. Create an instance of the 'Ebook' class and display its details. "
   ]
  },
  {
   "cell_type": "code",
   "execution_count": 5,
   "id": "91f6ea41-f570-465f-b118-a8316862fe99",
   "metadata": {},
   "outputs": [
    {
     "name": "stdout",
     "output_type": "stream",
     "text": [
      "Title : Subtle art of not giving a fu*k\n",
      "Author : Mark Manson\n",
      "Publication Year : 1997\n",
      "Price : 1000\n",
      "        \n"
     ]
    }
   ],
   "source": [
    "class Book():\n",
    "    def __init__(self,title,author,pub_year):\n",
    "        self.title = title\n",
    "        self.author = author\n",
    "        self.pub_year = pub_year \n",
    "    def details(self):\n",
    "        return f'''Title : {self.title}\n",
    "                  Author : {self.author}\n",
    "                  Publication Year : {self.pub_year}\n",
    "        '''\n",
    "class Ebook(Book):\n",
    "    def __init__(self,title,author,pub_year,price):\n",
    "        super().__init__(title,author,pub_year)\n",
    "        self.price = price\n",
    "    def details(self):\n",
    "        return f'''Title : {self.title}\n",
    "Author : {self.author}\n",
    "Publication Year : {self.pub_year}\n",
    "Price : {self.price}\n",
    "        '''\n",
    "\n",
    "b=Ebook('Subtle art of not giving a fu*k','Mark Manson',1997,1000)\n",
    "print(b.details())"
   ]
  },
  {
   "cell_type": "markdown",
   "id": "c86fd7da-a660-4670-8d88-11fc8f110494",
   "metadata": {},
   "source": [
    "# 8. Write a Python program that creates a class called 'Animal' with properties for species and sound. Include a method to make the animal's sound. Create a subclass called 'Dog' that inherits from the 'Animal' class and adds an additional property for color. Override the make sound method to include the dog's color. Create an instance of the 'Dog' class and make it make its sound. "
   ]
  },
  {
   "cell_type": "code",
   "execution_count": 62,
   "id": "c47eb33e-339f-4d49-bad5-c9e479a4ce86",
   "metadata": {},
   "outputs": [
    {
     "name": "stdout",
     "output_type": "stream",
     "text": [
      "Animal : Mammal\n",
      "Sound : bark\n",
      "Color : Brown\n"
     ]
    }
   ],
   "source": [
    "class Animal():\n",
    "    def __init__(self,species,sound):\n",
    "        self.species = species\n",
    "        self.sound = sound\n",
    "    def make_sound(self):\n",
    "        return self.sound\n",
    "\n",
    "class Dog(Animal):\n",
    "    def __init__(self,species,sound,color):\n",
    "        super().__init__(species,sound)\n",
    "        self.color = color\n",
    "    def make_sound(self):\n",
    "        return f'''Animal : {self.species}\n",
    "Sound : {self.sound}\n",
    "Color : {self.color}'''\n",
    "\n",
    "d=Dog('Mammal','bark','Brown')\n",
    "print(d.make_sound())"
   ]
  },
  {
   "cell_type": "markdown",
   "id": "81a5d89f-2989-4b8c-a176-f853f9a40d09",
   "metadata": {},
   "source": [
    "# 9. Write a Python program that creates a class called Bank with properties for bank names and branches. Include methods to add a branch, remove a branch, and display all branches. Create an instance of the Bank class and perform operations to add and remove branches. \n"
   ]
  },
  {
   "cell_type": "code",
   "execution_count": 72,
   "id": "7212abbc-17b3-4120-a17a-7366fb46c768",
   "metadata": {},
   "outputs": [
    {
     "name": "stdout",
     "output_type": "stream",
     "text": [
      "['Hasan Square', 'Gulshan']\n"
     ]
    }
   ],
   "source": [
    "class Bank ():\n",
    "    def __init__(self,bank_name):\n",
    "        self.bank_name = bank_name\n",
    "        self.branches = []\n",
    "    def add(self,branch_name):\n",
    "        self.branch_name = branch_name\n",
    "        if self.branch_name not in self.branches:\n",
    "            self.branches.append(self.branch_name)\n",
    "        else:\n",
    "            return f'Branch already exists'\n",
    "    def remove (self,branch_name):\n",
    "        if branch_name in self.branches:\n",
    "            self.branches.remove(branch_name)\n",
    "        else:\n",
    "            return f'Branch doesnt exists'\n",
    "    def show(self):\n",
    "        return self.branches\n",
    "\n",
    "\n",
    "b= Bank('HBL')\n",
    "b.add('Hasan Square')\n",
    "b.add('Gulshan')\n",
    "b.remove('Hasan Square')\n",
    "print(b.show())"
   ]
  },
  {
   "cell_type": "markdown",
   "id": "4b553932-5c2e-4488-aa3a-5738005a43a4",
   "metadata": {},
   "source": [
    "# 10. Write a Python program that creates a class called Product with properties for product ID, name, and price. Include a method to calculate the total price by multiplying the price by the quantity. Create a subclass called PersonalCareProduct that inherits from the Product class and adds an additional property for the warranty period. Override the total price calculation method to include the warranty period. Create an instance of the PersonalCareProduct class and calculate its total price.  "
   ]
  },
  {
   "cell_type": "code",
   "execution_count": 73,
   "id": "f08764ed-6463-4dcd-9c73-bb4b0688cfb5",
   "metadata": {},
   "outputs": [
    {
     "name": "stdin",
     "output_type": "stream",
     "text": [
      "Enter no.of quantity : 2\n"
     ]
    },
    {
     "name": "stdout",
     "output_type": "stream",
     "text": [
      "Total Price (including warranty cost) : 4050\n",
      "Warranty Cost : 50\n"
     ]
    }
   ],
   "source": [
    "class Product():\n",
    "    def __init__(self,prod_id,name,price):\n",
    "        self.prod_id = prod_id\n",
    "        self.name = name\n",
    "        self.price = price\n",
    "    def price_cal(self):\n",
    "        quantity = input('Enter no.of quantity : ')\n",
    "        # total_price = self.price * quantity\n",
    "        return f'Total Price : {self.price*quantity}'\n",
    "\n",
    "class PersonalCareProduct (Product):\n",
    "    def __init__(self,prod_id,name,price,warranty):\n",
    "        super().__init__(prod_id,name,price)\n",
    "        self.warranty = warranty \n",
    "    def price_cal(self):\n",
    "        quantity=int(input('Enter no.of quantity :'))\n",
    "        self.warranty_cost = 25 * quantity\n",
    "        # total = total_price + self.warranty_cost\n",
    "        return f'''Total Price (including warranty cost) : {(self.price*quantity) + (self.warranty_cost)}\n",
    "Warranty Cost : {self.warranty_cost}'''\n",
    "        \n",
    "\n",
    "\n",
    "p=PersonalCareProduct(123,'Garnier',2000,24)\n",
    "\n",
    "print(p.price_cal())\n",
    "    "
   ]
  },
  {
   "cell_type": "markdown",
   "id": "830e553f-779c-482f-a53d-b4c99bf54897",
   "metadata": {},
   "source": [
    "# 11. Write a Python program that creates a class called BankAccount with properties for account number, account holder name, and balance. Include methods to deposit, withdraw, and transfer money between accounts. Create multiple instances of the BankAccount class and perform operations such as depositing, withdrawing, and transferring money. "
   ]
  },
  {
   "cell_type": "code",
   "execution_count": 55,
   "id": "24591b51-0a43-4b7b-b697-460aa2485cdc",
   "metadata": {},
   "outputs": [
    {
     "name": "stdin",
     "output_type": "stream",
     "text": [
      "Enter amount to deposit:  2000\n"
     ]
    },
    {
     "name": "stdout",
     "output_type": "stream",
     "text": [
      "2000 has been deposited. \n",
      "Balance: 2000\n",
      "200 has been transferred to Ali (Account No: 123).\n",
      "Your New Balance: 1800\n",
      "Ali's New Balance: 200\n"
     ]
    },
    {
     "name": "stdin",
     "output_type": "stream",
     "text": [
      "Enter amount to withdraw:  200\n"
     ]
    },
    {
     "name": "stdout",
     "output_type": "stream",
     "text": [
      "200 has been withdrawn. \n",
      "Balance: 0\n"
     ]
    }
   ],
   "source": [
    "class BankAccount:\n",
    "    def __init__(self, ac_no, ac_holder):\n",
    "        self.ac_no = ac_no\n",
    "        self.ac_holder = ac_holder\n",
    "        self.balance = 0\n",
    "\n",
    "    def deposit(self):\n",
    "        try:\n",
    "            deposit = int(input('Enter amount to deposit: '))\n",
    "            if deposit > 0:\n",
    "                self.balance += deposit\n",
    "                print(f'{deposit} has been deposited. \\nBalance: {self.balance}')\n",
    "            else:\n",
    "                print('Enter a positive number.')\n",
    "        except ValueError:\n",
    "            print('Invalid input. Please enter a numeric value.')\n",
    "\n",
    "    def withdraw(self):\n",
    "        try:\n",
    "            withdraw = int(input('Enter amount to withdraw: '))\n",
    "            if withdraw > 0:\n",
    "                if self.balance >= withdraw:\n",
    "                    self.balance -= withdraw\n",
    "                    print(f'{withdraw} has been withdrawn. \\nBalance: {self.balance}')\n",
    "                else:\n",
    "                    print('Insufficient Balance.')\n",
    "            else:\n",
    "                print('Enter a positive number.')\n",
    "        except ValueError:\n",
    "            print('Invalid input. Please enter a numeric value.')\n",
    "\n",
    "    def transfer(self, amount, acc):\n",
    "        if amount > 0:\n",
    "            if self.balance >= amount:\n",
    "                self.balance -= amount\n",
    "                acc.balance += amount\n",
    "                print(f'{amount} has been transferred to {acc.ac_holder} (Account No: {acc.ac_no}).')\n",
    "                print(f'Your New Balance: {self.balance}')\n",
    "                print(f'{acc.ac_holder}\\'s New Balance: {acc.balance}')\n",
    "            else:\n",
    "                print('Insufficient Balance.')\n",
    "        else:\n",
    "            print('Enter a positive number.')\n",
    "\n",
    "b1 = BankAccount(122, 'Ayan')\n",
    "b2 = BankAccount(123, 'Ali')\n",
    "\n",
    "b1.deposit()  \n",
    "b1.transfer(200, b2)  \n",
    "\n"
   ]
  },
  {
   "cell_type": "markdown",
   "id": "0966f969-8f5c-496f-bde7-8b7dd6545a00",
   "metadata": {},
   "source": [
    "# 12. Write a Python program that creates a class called University with properties for university name and departments. Include methods to add a department, remove a department, and display all departments. Create an instance of the University class and add and remove departments. "
   ]
  },
  {
   "cell_type": "code",
   "execution_count": 36,
   "id": "9bfa000f-459f-4512-a0cf-ead435eebe6c",
   "metadata": {},
   "outputs": [
    {
     "name": "stdin",
     "output_type": "stream",
     "text": [
      "Enter Department to add : mech\n"
     ]
    },
    {
     "name": "stdout",
     "output_type": "stream",
     "text": [
      "mech has been added in NED.\n"
     ]
    },
    {
     "name": "stdin",
     "output_type": "stream",
     "text": [
      "Enter Departmment to remove : mech\n"
     ]
    },
    {
     "name": "stdout",
     "output_type": "stream",
     "text": [
      "mech has been removed from NED.\n"
     ]
    }
   ],
   "source": [
    "class University ():\n",
    "    def __init__(self,uni_name):\n",
    "        self.uni_name = uni_name\n",
    "        self.depts=[]\n",
    "    def add(self):\n",
    "        d=input('Enter Department to add :')\n",
    "        if d not in self.depts:\n",
    "            self.depts.append(d)\n",
    "            print(f'{d} has been added in {self.uni_name}.')\n",
    "        else:\n",
    "            print(f'{d} already exists.')\n",
    "    def remove(self):\n",
    "        d=input('Enter Departmment to remove :')\n",
    "        if d in self.depts :\n",
    "            self.depts.remove(d)\n",
    "            print(f'{d} has been removed from {self.uni_name}.')\n",
    "        else:\n",
    "            print(f'{d} doesnt exist.')\n",
    "\n",
    "u=University('NED')\n",
    "u.add()\n",
    "u.remove()"
   ]
  },
  {
   "cell_type": "code",
   "execution_count": null,
   "id": "8b73ce12-0e85-4efe-bd3d-edc65c28d64a",
   "metadata": {},
   "outputs": [],
   "source": []
  }
 ],
 "metadata": {
  "kernelspec": {
   "display_name": "Python 3 (ipykernel)",
   "language": "python",
   "name": "python3"
  },
  "language_info": {
   "codemirror_mode": {
    "name": "ipython",
    "version": 3
   },
   "file_extension": ".py",
   "mimetype": "text/x-python",
   "name": "python",
   "nbconvert_exporter": "python",
   "pygments_lexer": "ipython3",
   "version": "3.12.7"
  }
 },
 "nbformat": 4,
 "nbformat_minor": 5
}
