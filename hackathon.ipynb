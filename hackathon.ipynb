{
 "cells": [
  {
   "cell_type": "code",
   "execution_count": 24,
   "id": "85eecdae-1daf-43b4-af97-eae420a61aca",
   "metadata": {},
   "outputs": [
    {
     "name": "stdout",
     "output_type": "stream",
     "text": [
      "\n",
      "1) Open Account\n",
      "2) Deposit Money\n",
      "3) Withdraw Money\n",
      "4) Check Balance\n",
      "5) Transfer Money\n",
      "6) Print Statement\n",
      "7) Admin: Check Total Deposits\n",
      "8) Admin: Check Total Accounts\n",
      "9) Exit\n"
     ]
    },
    {
     "name": "stdin",
     "output_type": "stream",
     "text": [
      "Select an option:  1\n",
      "Enter account holder's name:  haj\n"
     ]
    },
    {
     "name": "stdout",
     "output_type": "stream",
     "text": [
      "Account successfully created! Account Number: 1\n",
      "\n",
      "1) Open Account\n",
      "2) Deposit Money\n",
      "3) Withdraw Money\n",
      "4) Check Balance\n",
      "5) Transfer Money\n",
      "6) Print Statement\n",
      "7) Admin: Check Total Deposits\n",
      "8) Admin: Check Total Accounts\n",
      "9) Exit\n"
     ]
    },
    {
     "name": "stdin",
     "output_type": "stream",
     "text": [
      "Select an option:  1\n",
      "Enter account holder's name:  haj\n"
     ]
    },
    {
     "name": "stdout",
     "output_type": "stream",
     "text": [
      "Account successfully created! Account Number: 2\n",
      "\n",
      "1) Open Account\n",
      "2) Deposit Money\n",
      "3) Withdraw Money\n",
      "4) Check Balance\n",
      "5) Transfer Money\n",
      "6) Print Statement\n",
      "7) Admin: Check Total Deposits\n",
      "8) Admin: Check Total Accounts\n",
      "9) Exit\n"
     ]
    },
    {
     "name": "stdin",
     "output_type": "stream",
     "text": [
      "Select an option:  2\n",
      "Enter your account number:  2\n",
      "Enter amount to deposit:  2000\n"
     ]
    },
    {
     "name": "stdout",
     "output_type": "stream",
     "text": [
      "2000.0 has been deposited. \n",
      "\n",
      "1) Open Account\n",
      "2) Deposit Money\n",
      "3) Withdraw Money\n",
      "4) Check Balance\n",
      "5) Transfer Money\n",
      "6) Print Statement\n",
      "7) Admin: Check Total Deposits\n",
      "8) Admin: Check Total Accounts\n",
      "9) Exit\n"
     ]
    },
    {
     "name": "stdin",
     "output_type": "stream",
     "text": [
      "Select an option:  4\n",
      "Enter your account number:  2\n"
     ]
    },
    {
     "name": "stdout",
     "output_type": "stream",
     "text": [
      "Account Balance: 2000.0\n",
      "\n",
      "1) Open Account\n",
      "2) Deposit Money\n",
      "3) Withdraw Money\n",
      "4) Check Balance\n",
      "5) Transfer Money\n",
      "6) Print Statement\n",
      "7) Admin: Check Total Deposits\n",
      "8) Admin: Check Total Accounts\n",
      "9) Exit\n"
     ]
    },
    {
     "name": "stdin",
     "output_type": "stream",
     "text": [
      "Select an option:  5\n",
      "Enter sender account number:  2\n",
      "Enter receiver account number:  1\n",
      "Enter amount to transfer:  500\n"
     ]
    },
    {
     "name": "stdout",
     "output_type": "stream",
     "text": [
      "500.0 has been withdrawn. \n",
      "Balance: 1500.0\n",
      "500.0 has been deposited. \n",
      "500.0 transferred successfully from 2 to 1.\n",
      "\n",
      "1) Open Account\n",
      "2) Deposit Money\n",
      "3) Withdraw Money\n",
      "4) Check Balance\n",
      "5) Transfer Money\n",
      "6) Print Statement\n",
      "7) Admin: Check Total Deposits\n",
      "8) Admin: Check Total Accounts\n",
      "9) Exit\n"
     ]
    },
    {
     "name": "stdin",
     "output_type": "stream",
     "text": [
      "Select an option:  4\n",
      "Enter your account number:  1\n"
     ]
    },
    {
     "name": "stdout",
     "output_type": "stream",
     "text": [
      "Account Balance: 500.0\n",
      "\n",
      "1) Open Account\n",
      "2) Deposit Money\n",
      "3) Withdraw Money\n",
      "4) Check Balance\n",
      "5) Transfer Money\n",
      "6) Print Statement\n",
      "7) Admin: Check Total Deposits\n",
      "8) Admin: Check Total Accounts\n",
      "9) Exit\n"
     ]
    },
    {
     "name": "stdin",
     "output_type": "stream",
     "text": [
      "Select an option:  6\n",
      "Enter your account number:  1\n"
     ]
    },
    {
     "ename": "AttributeError",
     "evalue": "'User' object has no attribute 'print_statement'",
     "output_type": "error",
     "traceback": [
      "\u001b[1;31m---------------------------------------------------------------------------\u001b[0m",
      "\u001b[1;31mAttributeError\u001b[0m                            Traceback (most recent call last)",
      "Cell \u001b[1;32mIn[24], line 137\u001b[0m\n\u001b[0;32m    134\u001b[0m         \u001b[38;5;28;01melse\u001b[39;00m:\n\u001b[0;32m    135\u001b[0m             \u001b[38;5;28mprint\u001b[39m(\u001b[38;5;124m\"\u001b[39m\u001b[38;5;124mInvalid choice. Please try again.\u001b[39m\u001b[38;5;124m\"\u001b[39m)\n\u001b[1;32m--> 137\u001b[0m main()\n",
      "Cell \u001b[1;32mIn[24], line 124\u001b[0m, in \u001b[0;36mmain\u001b[1;34m()\u001b[0m\n\u001b[0;32m    122\u001b[0m account \u001b[38;5;241m=\u001b[39m bank\u001b[38;5;241m.\u001b[39mget_account(account_number)\n\u001b[0;32m    123\u001b[0m \u001b[38;5;28;01mif\u001b[39;00m account:\n\u001b[1;32m--> 124\u001b[0m     account\u001b[38;5;241m.\u001b[39mprint_statement()\n\u001b[0;32m    125\u001b[0m \u001b[38;5;28;01melse\u001b[39;00m:\n\u001b[0;32m    126\u001b[0m     \u001b[38;5;28mprint\u001b[39m(\u001b[38;5;124m\"\u001b[39m\u001b[38;5;124mAccount not found.\u001b[39m\u001b[38;5;124m\"\u001b[39m)\n",
      "\u001b[1;31mAttributeError\u001b[0m: 'User' object has no attribute 'print_statement'"
     ]
    }
   ],
   "source": [
    "        \n",
    "class User():\n",
    "    def __init__(self,acc_no,acc_holder):\n",
    "        self.balance = 0\n",
    "        self.tx = []\n",
    "        self.acc_no = acc_no\n",
    "        self.acc_holder = acc_holder\n",
    "        \n",
    "\n",
    "    def deposit(self,amount):\n",
    "            if amount> 0:\n",
    "                self.balance += amount\n",
    "                d=f'Deposit : {amount}. New Balance : {self.balance}.'\n",
    "                self.tx.append(d)\n",
    "                print(f'{amount} has been deposited. ')\n",
    "            else:\n",
    "                print('Enter a positive number.')\n",
    "    def withdraw(self,amount):\n",
    "            if amount > 0:\n",
    "                if self.balance >= amount :\n",
    "                    self.balance -= amount\n",
    "                    w=f'Withdraw : {amount}. New Balance{self.balance}.'\n",
    "                    self.tx.append(w)\n",
    "                    print(f'{amount} has been withdrawn. \\nBalance: {self.balance}')\n",
    "                else:\n",
    "                    print('Insufficient Balance.')\n",
    "            else:\n",
    "                print('Enter a positive number.')\n",
    "    def check_balance(self):\n",
    "        print(f'Account Balance: {self.balance}')\n",
    "    def bank_statement(self):\n",
    "         print(f'--- Account Statement for {self.acc_holder} ---')\n",
    "         for i in self.tx :\n",
    "            print(f''' -> {i}\\n''')\n",
    "class Bank():\n",
    "    def __init__(self):\n",
    "        self.accs={}\n",
    "    def open_account(self, account_holder):\n",
    "        account_number = len(self.accs) + 1\n",
    "        new_account = User(account_number, account_holder)\n",
    "        self.accs[account_number] = new_account\n",
    "        print(f\"Account successfully created! Account Number: {account_number}\")\n",
    "    def get_account(self, account_number):\n",
    "        return self.accs.get(account_number, None)\n",
    "\n",
    "    def transfer(self, sender_account_number, receiver_account_number, amount):\n",
    "        sender = self.get_account(sender_account_number)\n",
    "        receiver = self.get_account(receiver_account_number)\n",
    "        if sender and receiver:\n",
    "            if sender.balance >= amount:\n",
    "                sender.withdraw(amount)\n",
    "                receiver.deposit(amount)\n",
    "                print(f\"{amount} transferred successfully from {sender_account_number} to {receiver_account_number}.\")\n",
    "            else:\n",
    "                print(\"Insufficient balance in sender's account.\")\n",
    "        else:\n",
    "            print(\"One or both account numbers are invalid.\")\n",
    "\n",
    "    def admin_check_total_deposit(self):\n",
    "        total = sum(account.balance for account in self.accs.values())\n",
    "        print(f\"Total Deposits in Bank: {total}\")\n",
    "        return total\n",
    "\n",
    "    def admin_check_total_accounts(self):\n",
    "        total_accounts = len(self.accs)\n",
    "        print(f\"Total Number of Accounts: {total_accounts}\")\n",
    "        return total_accounts\n",
    "        \n",
    "def main():\n",
    "    bank = Bank()\n",
    "\n",
    "    while True:\n",
    "        print(\"\\n1) Open Account\")\n",
    "        print(\"2) Deposit Money\")\n",
    "        print(\"3) Withdraw Money\")\n",
    "        print(\"4) Check Balance\")\n",
    "        print(\"5) Transfer Money\")\n",
    "        print(\"6) Print Statement\")\n",
    "        print(\"7) Admin: Check Total Deposits\")\n",
    "        print(\"8) Admin: Check Total Accounts\")\n",
    "        print(\"9) Exit\")\n",
    "        \n",
    "        choice = input(\"Select an option: \").strip()\n",
    "        if choice == \"1\":\n",
    "            name = input(\"Enter account holder's name: \").strip()\n",
    "            bank.open_account(name)\n",
    "        elif choice == \"2\":\n",
    "            account_number = int(input(\"Enter your account number: \"))\n",
    "            account = bank.get_account(account_number)\n",
    "            if account:\n",
    "                amount = float(input(\"Enter amount to deposit: \"))\n",
    "                account.deposit(amount)\n",
    "            else:\n",
    "                print(\"Account not found.\")\n",
    "        elif choice == \"3\":\n",
    "            account_number = int(input(\"Enter your account number: \"))\n",
    "            account = bank.get_account(account_number)\n",
    "            if account:\n",
    "                amount = float(input(\"Enter amount to withdraw: \"))\n",
    "                account.withdraw(amount)\n",
    "            else:\n",
    "                print(\"Account not found.\")\n",
    "        elif choice == \"4\":\n",
    "         \n",
    "            account = bank.get_account(account_number)\n",
    "            if account:\n",
    "                account.check_balance()\n",
    "            else:\n",
    "                print(\"Account not found.\")\n",
    "        elif choice == \"5\":\n",
    "            sender_account = int(input(\"Enter sender account number: \"))\n",
    "            receiver_account = int(input(\"Enter receiver account number: \"))\n",
    "            amount = float(input(\"Enter amount to transfer: \"))\n",
    "            bank.transfer(sender_account, receiver_account, amount)\n",
    "        elif choice == \"6\":\n",
    "            account_number = int(input(\"Enter your account number: \"))\n",
    "            account = bank.get_account(account_number)\n",
    "            if account:\n",
    "                account.print_statement()\n",
    "            else:\n",
    "                print(\"Account not found.\")\n",
    "        elif choice == \"7\":\n",
    "            bank.admin_check_total_deposit()\n",
    "        elif choice == \"8\":\n",
    "            bank.admin_check_total_accounts()\n",
    "        elif choice == \"9\":\n",
    "            print(\"Thank you for using the banking system. Goodbye!\")\n",
    "            break\n",
    "        else:\n",
    "            print(\"Invalid choice. Please try again.\")\n",
    "\n",
    "main()"
   ]
  },
  {
   "cell_type": "code",
   "execution_count": null,
   "id": "c8f475c9-ecb8-4e59-acad-584051664d1b",
   "metadata": {},
   "outputs": [],
   "source": []
  }
 ],
 "metadata": {
  "kernelspec": {
   "display_name": "Python 3 (ipykernel)",
   "language": "python",
   "name": "python3"
  },
  "language_info": {
   "codemirror_mode": {
    "name": "ipython",
    "version": 3
   },
   "file_extension": ".py",
   "mimetype": "text/x-python",
   "name": "python",
   "nbconvert_exporter": "python",
   "pygments_lexer": "ipython3",
   "version": "3.12.7"
  }
 },
 "nbformat": 4,
 "nbformat_minor": 5
}
