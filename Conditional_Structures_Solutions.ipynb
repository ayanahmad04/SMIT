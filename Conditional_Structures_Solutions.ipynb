{
 "cells": [
  {
   "cell_type": "markdown",
   "id": "366e903b",
   "metadata": {},
   "source": [
    "1. Write a program that prompts the user to input a number and display if the number is even or odd."
   ]
  },
  {
   "cell_type": "code",
   "execution_count": null,
   "id": "1181f817",
   "metadata": {},
   "outputs": [],
   "source": [
    "\n",
    "# Solution\n",
    "number = int(input(\"Enter a number: \"))\n",
    "if number % 2 == 0:\n",
    "    print(\"The number is even.\")\n",
    "else:\n",
    "    print(\"The number is odd.\")\n",
    "    "
   ]
  },
  {
   "cell_type": "markdown",
   "id": "813491bd",
   "metadata": {},
   "source": [
    "2. Write a Python program that takes an age as input and determines whether a person is eligible to vote. If the age is 18 or above, print \"You are eligible to vote.\" Otherwise, print \"You are not eligible to vote yet.\"."
   ]
  },
  {
   "cell_type": "code",
   "execution_count": null,
   "id": "f601f6a9",
   "metadata": {},
   "outputs": [],
   "source": [
    "\n",
    "# Solution\n",
    "age = int(input(\"Enter your age: \"))\n",
    "if age >= 18:\n",
    "    print(\"You are eligible to vote.\")\n",
    "else:\n",
    "    print(\"You are not eligible to vote yet.\")\n",
    "    "
   ]
  },
  {
   "cell_type": "markdown",
   "id": "38d1ea5d",
   "metadata": {},
   "source": [
    "3. Write a program that prompts the user to input two integers and outputs the largest."
   ]
  },
  {
   "cell_type": "code",
   "execution_count": null,
   "id": "be093292",
   "metadata": {},
   "outputs": [],
   "source": [
    "\n",
    "# Solution\n",
    "num1 = int(input(\"Enter the first number: \"))\n",
    "num2 = int(input(\"Enter the second number: \"))\n",
    "if num1 > num2:\n",
    "    print(f\"The larger number is: {num1}\")\n",
    "else:\n",
    "    print(f\"The larger number is: {num2}\")\n",
    "    "
   ]
  },
  {
   "cell_type": "markdown",
   "id": "194f1246",
   "metadata": {},
   "source": [
    "4. Write a program that prompts the user to enter a number and determines whether it is positive, negative, or zero. The program should print \"Positive\" if the number is greater than 0, \"Negative\" if the number is less than 0, and \"Zero\" if the number is 0."
   ]
  },
  {
   "cell_type": "code",
   "execution_count": null,
   "id": "deeb7396",
   "metadata": {},
   "outputs": [],
   "source": [
    "\n",
    "# Solution\n",
    "number = int(input(\"Enter a number: \"))\n",
    "if number > 0:\n",
    "    print(\"Positive\")\n",
    "elif number < 0:\n",
    "    print(\"Negative\")\n",
    "else:\n",
    "    print(\"Zero\")\n",
    "    "
   ]
  },
  {
   "cell_type": "markdown",
   "id": "f96563e6",
   "metadata": {},
   "source": [
    "5. Write a program that prompts the user to enter their age and prints the corresponding age group using the following age groups:\n",
    "   0-12: Child\n",
    "   13-19: Teenager\n",
    "   20-59: Adult\n",
    "   60 and above: Senior Citizen."
   ]
  },
  {
   "cell_type": "code",
   "execution_count": null,
   "id": "f2411204",
   "metadata": {},
   "outputs": [],
   "source": [
    "\n",
    "# Solution\n",
    "age = int(input(\"Enter your age: \"))\n",
    "if age <= 12:\n",
    "    print(\"Child\")\n",
    "elif age <= 19:\n",
    "    print(\"Teenager\")\n",
    "elif age <= 59:\n",
    "    print(\"Adult\")\n",
    "else:\n",
    "    print(\"Senior Citizen\")\n",
    "    "
   ]
  },
  {
   "cell_type": "markdown",
   "id": "62d2bfd8",
   "metadata": {},
   "source": [
    "6. Write a program that prompts the user to input a number from 1 to 7 and displays the corresponding day for the given number. If the number is not between 1 to 7, the program should display an error message."
   ]
  },
  {
   "cell_type": "code",
   "execution_count": null,
   "id": "cd0abb40",
   "metadata": {},
   "outputs": [],
   "source": [
    "\n",
    "# Solution\n",
    "day_number = int(input(\"Enter a number from 1 to 7: \"))\n",
    "days = [\"Sunday\", \"Monday\", \"Tuesday\", \"Wednesday\", \"Thursday\", \"Friday\", \"Saturday\"]\n",
    "if 1 <= day_number <= 7:\n",
    "    print(f\"The day is {days[day_number - 1]}\")\n",
    "else:\n",
    "    print(\"Error: Number out of range!\")\n",
    "    "
   ]
  },
  {
   "cell_type": "markdown",
   "id": "dc41446e",
   "metadata": {},
   "source": [
    "7. Write a program that prompts the user to enter their weight (in kilograms) and height (in meters). The program should calculate the Body Mass Index (BMI) using the formula: BMI = weight / (height * height). The program should then classify the BMI into one of the following categories:\n",
    "   * less than 18.5 - Underweight\n",
    "   * BMI between 18.5 and 24.9 - Normal weight\n",
    "   * BMI between 25 and 29.9 - Overweight\n",
    "   * BMI 30 or greater - Obesity."
   ]
  },
  {
   "cell_type": "code",
   "execution_count": null,
   "id": "1dbd2944",
   "metadata": {},
   "outputs": [],
   "source": [
    "\n",
    "# Solution\n",
    "weight = float(input(\"Enter your weight in kg: \"))\n",
    "height = float(input(\"Enter your height in meters: \"))\n",
    "bmi = weight / (height ** 2)\n",
    "if bmi < 18.5:\n",
    "    print(\"Underweight\")\n",
    "elif bmi < 25:\n",
    "    print(\"Normal weight\")\n",
    "elif bmi < 30:\n",
    "    print(\"Overweight\")\n",
    "else:\n",
    "    print(\"Obesity\")\n",
    "    "
   ]
  },
  {
   "cell_type": "markdown",
   "id": "6dcff04c",
   "metadata": {},
   "source": [
    "8. The marks obtained by a student in 3 different subjects are input by the user. Your program should calculate the average of subjects and display the grade using the following rules:\n",
    "   * Average 90-100: Grade A\n",
    "   * Average 80-89: Grade B\n",
    "   * Average 70-79: Grade C\n",
    "   * Average 60-69: Grade D\n",
    "   * Average 0-59: Grade F."
   ]
  },
  {
   "cell_type": "code",
   "execution_count": null,
   "id": "1fec2a94",
   "metadata": {},
   "outputs": [],
   "source": [
    "\n",
    "# Solution\n",
    "marks = [float(input(f\"Enter marks for subject {i+1}: \")) for i in range(3)]\n",
    "average = sum(marks) / len(marks)\n",
    "if average >= 90:\n",
    "    grade = 'A'\n",
    "elif average >= 80:\n",
    "    grade = 'B'\n",
    "elif average >= 70:\n",
    "    grade = 'C'\n",
    "elif average >= 60:\n",
    "    grade = 'D'\n",
    "else:\n",
    "    grade = 'F'\n",
    "print(f\"Average: {average}, Grade: {grade}\")\n",
    "    "
   ]
  },
  {
   "cell_type": "markdown",
   "id": "8e1c9cc3",
   "metadata": {},
   "source": [
    "9. Write a program that prompts the user to input the value of a, b, and c for a quadratic equation ax^2 + bx + c = 0 and outputs the roots of the equation."
   ]
  },
  {
   "cell_type": "code",
   "execution_count": null,
   "id": "71c76321",
   "metadata": {},
   "outputs": [],
   "source": [
    "\n",
    "# Solution\n",
    "import math\n",
    "\n",
    "a = float(input(\"Enter the coefficient a: \"))\n",
    "b = float(input(\"Enter the coefficient b: \"))\n",
    "c = float(input(\"Enter the coefficient c: \"))\n",
    "\n",
    "discriminant = b**2 - 4*a*c\n",
    "if discriminant > 0:\n",
    "    root1 = (-b + math.sqrt(discriminant)) / (2 * a)\n",
    "    root2 = (-b - math.sqrt(discriminant)) / (2 * a)\n",
    "    print(f\"The roots are real and different: {root1}, {root2}\")\n",
    "elif discriminant == 0:\n",
    "    root = -b / (2 * a)\n",
    "    print(f\"The roots are real and equal: {root}\")\n",
    "else:\n",
    "    real_part = -b / (2 * a)\n",
    "    imaginary_part = math.sqrt(-discriminant) / (2 * a)\n",
    "    print(f\"The roots are complex: {real_part} ± {imaginary_part}i\")\n",
    "    "
   ]
  },
  {
   "cell_type": "markdown",
   "id": "d2b91d40",
   "metadata": {},
   "source": [
    "10. Write a program that prompts the user to enter three numbers and sorts them in ascending order."
   ]
  },
  {
   "cell_type": "code",
   "execution_count": null,
   "id": "5e89fc90",
   "metadata": {},
   "outputs": [],
   "source": [
    "\n",
    "# Solution\n",
    "numbers = list(map(int, input(\"Enter three numbers separated by spaces: \").split()))\n",
    "numbers.sort()\n",
    "print(\"Sorted numbers:\", numbers)\n",
    "    "
   ]
  },
  {
   "cell_type": "markdown",
   "id": "7518fd47",
   "metadata": {},
   "source": [
    "11. Write a program that prompts the user to input three integers and outputs the largest."
   ]
  },
  {
   "cell_type": "code",
   "execution_count": null,
   "id": "3c1100fd",
   "metadata": {},
   "outputs": [],
   "source": [
    "\n",
    "# Solution\n",
    "numbers = list(map(int, input(\"Enter three integers separated by spaces: \").split()))\n",
    "print(\"The largest number is:\", max(numbers))\n",
    "    "
   ]
  },
  {
   "cell_type": "markdown",
   "id": "2363e41e",
   "metadata": {},
   "source": [
    "12. Write a program that prompts the user to input a character and determines whether the character is a vowel or consonant."
   ]
  },
  {
   "cell_type": "code",
   "execution_count": null,
   "id": "a86f362b",
   "metadata": {},
   "outputs": [],
   "source": [
    "\n",
    "# Solution\n",
    "char = input(\"Enter a character: \").lower()\n",
    "if char in 'aeiou':\n",
    "    print(\"The character is a vowel.\")\n",
    "else:\n",
    "    print(\"The character is a consonant.\")\n",
    "    "
   ]
  },
  {
   "cell_type": "markdown",
   "id": "c1ea65e3",
   "metadata": {},
   "source": [
    "13. Write a program that prompts the user to input a year and determines whether the year is a leap year or not."
   ]
  },
  {
   "cell_type": "code",
   "execution_count": null,
   "id": "aae489dd",
   "metadata": {},
   "outputs": [],
   "source": [
    "\n",
    "# Solution\n",
    "year = int(input(\"Enter a year: \"))\n",
    "if (year % 4 == 0 and year % 100 != 0) or (year % 400 == 0):\n",
    "    print(\"Leap Year\")\n",
    "else:\n",
    "    print(\"Not a Leap Year\")\n",
    "    "
   ]
  },
  {
   "cell_type": "markdown",
   "id": "e1310b59",
   "metadata": {},
   "source": [
    "14. Write a program that prompts the user to input the number of calls and calculates the monthly telephone bill as per the given rules:\n",
    "   * Minimum Rs. 200 for up to 100 calls.\n",
    "   * Plus Rs. 0.60 per call for the next 50 calls.\n",
    "   * Plus Rs. 0.50 per call for the next 50 calls.\n",
    "   * Plus Rs. 0.40 per call for any call beyond 200 calls."
   ]
  },
  {
   "cell_type": "code",
   "execution_count": null,
   "id": "83697b04",
   "metadata": {},
   "outputs": [],
   "source": [
    "\n",
    "# Solution\n",
    "calls = int(input(\"Enter the number of calls: \"))\n",
    "bill = 200\n",
    "if calls > 100:\n",
    "    bill += min(calls - 100, 50) * 0.60\n",
    "if calls > 150:\n",
    "    bill += min(calls - 150, 50) * 0.50\n",
    "if calls > 200:\n",
    "    bill += (calls - 200) * 0.40\n",
    "print(f\"Your telephone bill is Rs. {bill}\")\n",
    "    "
   ]
  }
 ],
 "metadata": {},
 "nbformat": 4,
 "nbformat_minor": 5
}