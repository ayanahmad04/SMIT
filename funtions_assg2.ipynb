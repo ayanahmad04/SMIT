{
 "cells": [
  {
   "cell_type": "markdown",
   "id": "83c5f7d7-dff4-46e6-8725-43feb5149752",
   "metadata": {},
   "source": [
    "# Task1:"
   ]
  },
  {
   "cell_type": "code",
   "execution_count": 1,
   "id": "f5bff70d",
   "metadata": {},
   "outputs": [
    {
     "name": "stdout",
     "output_type": "stream",
     "text": [
      "Task 1 Output: 2002,2009,2016,2023,2037,2044,2051,2058,2072,2079,2086,2093,2107,2114,2121,2128,2142,2149,2156,2163,2177,2184,2191,2198,2212,2219,2226,2233,2247,2254,2261,2268,2282,2289,2296,2303,2317,2324,2331,2338,2352,2359,2366,2373,2387,2394,2401,2408,2422,2429,2436,2443,2457,2464,2471,2478,2492,2499,2506,2513,2527,2534,2541,2548,2562,2569,2576,2583,2597,2604,2611,2618,2632,2639,2646,2653,2667,2674,2681,2688,2702,2709,2716,2723,2737,2744,2751,2758,2772,2779,2786,2793,2807,2814,2821,2828,2842,2849,2856,2863,2877,2884,2891,2898,2912,2919,2926,2933,2947,2954,2961,2968,2982,2989,2996,3003,3017,3024,3031,3038,3052,3059,3066,3073,3087,3094,3101,3108,3122,3129,3136,3143,3157,3164,3171,3178,3192,3199\n"
     ]
    }
   ],
   "source": [
    "\n",
    "def find_numbers():\n",
    "    return \",\".join(str(x) for x in range(2000, 3201) if x % 7 == 0 and x % 5 != 0)\n",
    "\n",
    "print(\"Task 1 Output:\", find_numbers())\n"
   ]
  },
  {
   "cell_type": "markdown",
   "id": "bdcf45dc-1dde-45cc-9a8e-e776b9f9a455",
   "metadata": {},
   "source": [
    "# Task 2:"
   ]
  },
  {
   "cell_type": "code",
   "execution_count": 2,
   "id": "209f76d3",
   "metadata": {},
   "outputs": [
    {
     "name": "stdout",
     "output_type": "stream",
     "text": [
      "Task 2 Output: 5,4,4\n"
     ]
    }
   ],
   "source": [
    "\n",
    "import math\n",
    "\n",
    "def calculate_p(c_values):\n",
    "    A, B = 50, 30\n",
    "    return [int(math.sqrt((2 * A * B) / C)) for C in c_values]\n",
    "\n",
    "input_values = [100, 150, 180]\n",
    "output_values = calculate_p(input_values)\n",
    "print(\"Task 2 Output:\", \",\".join(map(str, output_values)))\n"
   ]
  },
  {
   "cell_type": "markdown",
   "id": "55f33a14-9277-46f0-bcb7-a837c79b7274",
   "metadata": {},
   "source": [
    "# Task 3:"
   ]
  },
  {
   "cell_type": "code",
   "execution_count": 3,
   "id": "d62c0ef1",
   "metadata": {},
   "outputs": [
    {
     "name": "stdout",
     "output_type": "stream",
     "text": [
      "Task 3 Output: bag,hello,without,world\n"
     ]
    }
   ],
   "source": [
    "\n",
    "def sort_words(input_sequence):\n",
    "    return \",\".join(sorted(input_sequence.split(\",\")))\n",
    "\n",
    "input_sequence = \"without,hello,bag,world\"\n",
    "output_sequence = sort_words(input_sequence)\n",
    "print(\"Task 3 Output:\", output_sequence)\n"
   ]
  },
  {
   "cell_type": "markdown",
   "id": "1ac3ff58-04ae-4b6c-b773-0f7a511a7e77",
   "metadata": {},
   "source": [
    "# Task 4:"
   ]
  },
  {
   "cell_type": "code",
   "execution_count": 4,
   "id": "4844314d",
   "metadata": {},
   "outputs": [
    {
     "name": "stdout",
     "output_type": "stream",
     "text": [
      "Task 4 Output:\n",
      "HELLO WORLD\n",
      "PRACTICE MAKES PERFECT\n"
     ]
    }
   ],
   "source": [
    "\n",
    "def capitalize_lines(lines):\n",
    "    return [line.upper() for line in lines]\n",
    "\n",
    "input_lines = [\"Hello world\", \"Practice makes perfect\"]\n",
    "output_lines = capitalize_lines(input_lines)\n",
    "print(\"Task 4 Output:\")\n",
    "print(\"\\n\".join(output_lines))\n"
   ]
  },
  {
   "cell_type": "markdown",
   "id": "d8950a9e-2df5-4ead-be86-256bf7143718",
   "metadata": {},
   "source": [
    "# Task 5:"
   ]
  },
  {
   "cell_type": "code",
   "execution_count": 5,
   "id": "183c4ec1",
   "metadata": {},
   "outputs": [
    {
     "name": "stdout",
     "output_type": "stream",
     "text": [
      "Task 5 Output:\n",
      "a appeared 2 times\n",
      "e appeared 5 times\n",
      "i appeared 1 times\n",
      "o appeared 2 times\n",
      "u appeared 0 times\n"
     ]
    }
   ],
   "source": [
    "\n",
    "def count_vowels(sentence):\n",
    "    vowels = \"aeiou\"\n",
    "    counts = {v: sentence.lower().count(v) for v in vowels}\n",
    "    for vowel, count in counts.items():\n",
    "        print(f\"{vowel} appeared {count} times\")\n",
    "\n",
    "input_sentence = \"Hello world Practice makes perfect\"\n",
    "print(\"Task 5 Output:\")\n",
    "count_vowels(input_sentence)\n"
   ]
  },
  {
   "cell_type": "markdown",
   "id": "7f29f859-9f76-4815-8053-0d137b179805",
   "metadata": {},
   "source": [
    "# Task 6:"
   ]
  },
  {
   "cell_type": "code",
   "execution_count": null,
   "id": "dc39b9af",
   "metadata": {},
   "outputs": [],
   "source": [
    "\n",
    "def find_even_digit_numbers():\n",
    "    return [x for x in range(1000, 3001) if all(int(d) % 2 == 0 for d in str(x))]\n",
    "\n",
    "output_numbers = find_even_digit_numbers()\n",
    "print(\"Task 6 Output:\", output_numbers)\n"
   ]
  },
  {
   "cell_type": "markdown",
   "id": "1719ac65-87a6-4f8f-83f7-ad03208485e8",
   "metadata": {},
   "source": [
    "# Task 7:"
   ]
  },
  {
   "cell_type": "code",
   "execution_count": 6,
   "id": "66ddae07",
   "metadata": {},
   "outputs": [
    {
     "name": "stdout",
     "output_type": "stream",
     "text": [
      "Task 7 Output: 1010\n"
     ]
    }
   ],
   "source": [
    "\n",
    "def binary_divisible_by_five(binary_numbers):\n",
    "    return [b for b in binary_numbers if int(b, 2) % 5 == 0]\n",
    "\n",
    "input_binaries = [\"0100\", \"0011\", \"1010\", \"1001\"]\n",
    "output_binaries = binary_divisible_by_five(input_binaries)\n",
    "print(\"Task 7 Output:\", \",\".join(output_binaries))\n"
   ]
  },
  {
   "cell_type": "markdown",
   "id": "77289d15-5491-4da7-942f-5deb525399b1",
   "metadata": {},
   "source": [
    "# Task 8:"
   ]
  },
  {
   "cell_type": "code",
   "execution_count": 7,
   "id": "85c7367d",
   "metadata": {},
   "outputs": [
    {
     "name": "stdout",
     "output_type": "stream",
     "text": [
      "Task 8 Output:\n",
      "LETTERS 10\n",
      "DIGITS 3\n"
     ]
    }
   ],
   "source": [
    "\n",
    "def count_letters_and_digits(sentence):\n",
    "    letters = sum(c.isalpha() for c in sentence)\n",
    "    digits = sum(c.isdigit() for c in sentence)\n",
    "    return letters, digits\n",
    "\n",
    "input_sentence = \"hello world! 123\"\n",
    "letters, digits = count_letters_and_digits(input_sentence)\n",
    "print(\"Task 8 Output:\")\n",
    "print(f\"LETTERS {letters}\")\n",
    "print(f\"DIGITS {digits}\")\n"
   ]
  },
  {
   "cell_type": "code",
   "execution_count": null,
   "id": "c02490d4-b0b1-4833-862c-42ca0736f205",
   "metadata": {},
   "outputs": [],
   "source": []
  }
 ],
 "metadata": {
  "kernelspec": {
   "display_name": "Python 3 (ipykernel)",
   "language": "python",
   "name": "python3"
  },
  "language_info": {
   "codemirror_mode": {
    "name": "ipython",
    "version": 3
   },
   "file_extension": ".py",
   "mimetype": "text/x-python",
   "name": "python",
   "nbconvert_exporter": "python",
   "pygments_lexer": "ipython3",
   "version": "3.12.7"
  }
 },
 "nbformat": 4,
 "nbformat_minor": 5
}
