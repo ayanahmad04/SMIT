{
 "cells": [
  {
   "cell_type": "markdown",
   "id": "5203f7b0-a559-4b38-94fd-c3d5f9f0d763",
   "metadata": {},
   "source": [
    "# 1. Write a Python function to find the maximum of three numbers. \n"
   ]
  },
  {
   "cell_type": "code",
   "execution_count": 64,
   "id": "0b52f7dc-944b-4000-bfb5-30ac913ca671",
   "metadata": {},
   "outputs": [
    {
     "name": "stdout",
     "output_type": "stream",
     "text": [
      "99\n"
     ]
    }
   ],
   "source": [
    "def max( e, s,d):\n",
    "    maxx=0\n",
    "    if e>s :\n",
    "        maxx=e\n",
    "    else:\n",
    "        maxx=s\n",
    "    if d >maxx:\n",
    "        maxx=d\n",
    "    return maxx\n",
    "\n",
    "a=max(8,0,99)\n",
    "print(a)"
   ]
  },
  {
   "cell_type": "markdown",
   "id": "71d31038-8b36-4051-a403-3626c7f0eb90",
   "metadata": {},
   "source": [
    "# 2. Write a Python function to sum all the numbers in a list.\n",
    "     Sample List : (8, 2, 3, 0, 7)\n",
    "     Expected Output : 20 \n"
   ]
  },
  {
   "cell_type": "code",
   "execution_count": 65,
   "id": "ee190d66-9016-4f2d-b08d-b90198c06255",
   "metadata": {},
   "outputs": [
    {
     "name": "stdout",
     "output_type": "stream",
     "text": [
      "20\n"
     ]
    }
   ],
   "source": [
    "def sum(u):\n",
    "    sum=0\n",
    "    for i in range(len(u)):\n",
    "        sum=sum + u[i]\n",
    "    return sum\n",
    "\n",
    "w=[8,2,3,0,7]\n",
    "b=sum(w)\n",
    "print(b)"
   ]
  },
  {
   "cell_type": "markdown",
   "id": "1ac61849-3356-4c33-b72e-58d1d23079da",
   "metadata": {},
   "source": [
    "# 3. Write a Python function to multiply all the numbers in a list.\n",
    "    Sample List : (8, 2, 3, -1, 7)\n",
    "    Expected Output : -336 \n"
   ]
  },
  {
   "cell_type": "code",
   "execution_count": 111,
   "id": "7faeffa5-1c88-4baf-a849-e130f61d4ee0",
   "metadata": {},
   "outputs": [
    {
     "name": "stdout",
     "output_type": "stream",
     "text": [
      "-336\n"
     ]
    }
   ],
   "source": [
    "def multiply(m):\n",
    "    a=1\n",
    "    for i in m:\n",
    "        a=a*i\n",
    "    return a\n",
    "m=[8,2,3,-1,7]\n",
    "mm=multiply(m)\n",
    "print(mm)"
   ]
  },
  {
   "cell_type": "markdown",
   "id": "711ed97d-f4fc-4645-bdbd-0e07e7e9610f",
   "metadata": {},
   "source": [
    "# 4. Write a Python program to reverse a string.\n",
    "     Sample String : \"1234abcd\"\n",
    "     Expected Output : \"dcba4321\""
   ]
  },
  {
   "cell_type": "code",
   "execution_count": 66,
   "id": "2cde0353-38c5-49b7-aacb-427e5af9fd82",
   "metadata": {},
   "outputs": [
    {
     "name": "stdout",
     "output_type": "stream",
     "text": [
      "dcba4321\n"
     ]
    }
   ],
   "source": [
    "y='1234abcd'\n",
    "print(y[::-1])"
   ]
  },
  {
   "cell_type": "markdown",
   "id": "daaeb03e-64f4-475d-a40a-6558b7771814",
   "metadata": {},
   "source": [
    "# 5. Write a Python function to calculate the factorial of a number (a non-negative Integer). The function accepts the number as an argument. \n"
   ]
  },
  {
   "cell_type": "code",
   "execution_count": 67,
   "id": "7c01f7ab-9c5e-47e3-a6e7-dcf126d5cea8",
   "metadata": {},
   "outputs": [
    {
     "name": "stdout",
     "output_type": "stream",
     "text": [
      "362880\n"
     ]
    }
   ],
   "source": [
    "def factorial(z):\n",
    "    i=1\n",
    "    for x in range(1,z+1):\n",
    "        i=x*i\n",
    "    return i\n",
    "\n",
    "q=factorial(9)\n",
    "print(q)"
   ]
  },
  {
   "cell_type": "markdown",
   "id": "cc270183-c717-4348-afe2-f428a71d364f",
   "metadata": {},
   "source": [
    "# 6. Write a Python function to check whether a number falls within a given range. \n"
   ]
  },
  {
   "cell_type": "code",
   "execution_count": 106,
   "id": "25d9d936-e3e1-4cdf-b6c8-f5b642306f18",
   "metadata": {},
   "outputs": [
    {
     "name": "stdout",
     "output_type": "stream",
     "text": [
      "Number lies within a range\n"
     ]
    }
   ],
   "source": [
    "def range(r):\n",
    "    if r>=25 and r<50:\n",
    "        return \"Number lies within a range\"\n",
    "    else:\n",
    "        return \"Number does not lie within a range\"\n",
    "t=range(29)\n",
    "print(t)"
   ]
  },
  {
   "cell_type": "markdown",
   "id": "965b7b13-b377-4d13-9f66-d0a572c3b41e",
   "metadata": {},
   "source": [
    "# 7. Write a Python function that accepts a string and counts the number of upper and lower case letters.\n",
    "     Sample String : 'The quick Brow Fox'  \n",
    "     Expected Output :\n",
    "     No. of Upper case characters : 3\n",
    "     No. of Lower case Characters : 12 \n"
   ]
  },
  {
   "cell_type": "code",
   "execution_count": 74,
   "id": "0e456a10-9c0b-4ca2-844a-13e66c23b8d9",
   "metadata": {},
   "outputs": [
    {
     "name": "stdout",
     "output_type": "stream",
     "text": [
      "No. of Upper case characters : 3\n",
      "No. of Lower case Characters : 12 \n"
     ]
    }
   ],
   "source": [
    "def count(d):\n",
    "    count=0\n",
    "    count1=0\n",
    "    for x in d:\n",
    "        if x.islower():\n",
    "            count=count+1\n",
    "        if x.isupper():\n",
    "            count1=count1+1\n",
    "    return count1,count\n",
    "o = 'The quick Brow Fox'\n",
    "upper,lower=count(o)\n",
    "print(f'No. of Upper case characters : {upper}\\nNo. of Lower case Characters : {lower} ')"
   ]
  },
  {
   "cell_type": "markdown",
   "id": "7f1a34fc-8298-4156-9b63-dc911328926a",
   "metadata": {},
   "source": [
    "# 8. Write a Python function that takes a list and returns a new list with distinct elements from the first list.\n",
    "     Sample List : [1,2,3,3,3,3,4,5]\n",
    "     Unique List : [1, 2, 3, 4, 5] "
   ]
  },
  {
   "cell_type": "code",
   "execution_count": 75,
   "id": "3de55dca-a875-46ee-8161-e3d04a22a645",
   "metadata": {},
   "outputs": [
    {
     "name": "stdout",
     "output_type": "stream",
     "text": [
      "[1, 2, 3, 4, 5]\n"
     ]
    }
   ],
   "source": [
    "def distinct (r):\n",
    "    a=[]\n",
    "    for x in r:\n",
    "        if x in a:\n",
    "            pass\n",
    "        else:\n",
    "            a.append(x)\n",
    "    return a\n",
    "h=[1,2,3,3,3,3,4,5]\n",
    "f=distinct(h)\n",
    "print(f)"
   ]
  },
  {
   "cell_type": "markdown",
   "id": "e73b9608-9fdc-48f3-843f-217ae787f6cd",
   "metadata": {},
   "source": [
    "# 9. Write a Python function that takes a number as a parameter and checks whether the number is prime or not.\n",
    "     Note : A prime number (or a prime) is a natural number greater than 1 and that has no positive divisors other than 1 and itself."
   ]
  },
  {
   "cell_type": "code",
   "execution_count": 1,
   "id": "b91597f7-c928-484f-8473-4fdd0f5fdda4",
   "metadata": {},
   "outputs": [
    {
     "name": "stdout",
     "output_type": "stream",
     "text": [
      "Not Prime\n"
     ]
    }
   ],
   "source": [
    "def prime(n):\n",
    "    if n <= 1:\n",
    "        return \"Not Prime\"\n",
    "    for x in range(2, n):\n",
    "        if n % x == 0:\n",
    "            return \"Not Prime\"\n",
    "    return \"Prime\"\n",
    "\n",
    "a = prime(6)\n",
    "print(a)\n"
   ]
  },
  {
   "cell_type": "markdown",
   "id": "c2926d6a-92fc-42a2-967e-7e73a69d7b29",
   "metadata": {},
   "source": [
    "# 10. Write a Python program to print the even numbers from a given list.\n",
    "     Sample List : [1, 2, 3, 4, 5, 6, 7, 8, 9]\n",
    "     Expected Result : [2, 4, 6, 8] \n"
   ]
  },
  {
   "cell_type": "code",
   "execution_count": 93,
   "id": "c8a262da-6c2f-4620-bb6f-2d362b895536",
   "metadata": {},
   "outputs": [
    {
     "name": "stdout",
     "output_type": "stream",
     "text": [
      "[2, 4, 6, 8]\n"
     ]
    }
   ],
   "source": [
    "def even(num):\n",
    "    b=[]\n",
    "    for x in num:\n",
    "        if x%2==0:\n",
    "            b.append(x)\n",
    "    return b\n",
    "z=[1, 2, 3, 4, 5, 6, 7, 8, 9]\n",
    "c=even(z)\n",
    "print(c)"
   ]
  },
  {
   "cell_type": "markdown",
   "id": "72aba482-e87e-4909-886d-4c94c313fbbf",
   "metadata": {},
   "source": [
    "\n",
    "11. Write a Python function to check whether a number is \"Perfect\" or not.According to Wikipedia : In number theory, a perfect number is a positive integer that is equal to the sum of its proper positive divisors, that is, the sum of its positive divisors excluding the number itself (also known as its aliquot sum). Equivalently, a perfect number is a number that is half the sum of all of its positive divisors (including itself). Example : The first perfect number is 6, because 1, 2, and 3 are its proper positive divisors, and 1 + 2 + 3 = 6. Equivalently, the number 6 is equal to half the sum of all its positive divisors: ( 1 + 2 + 3 + 6 ) / 2 = 6. The next perfect number is 28 = 1 + 2 + 4 + 7 + 14. This is followed by the perfect numbers 496 and 8128. \n"
   ]
  },
  {
   "cell_type": "code",
   "execution_count": 95,
   "id": "9c676863-f17e-48e5-a4b1-bf44b6e96a4c",
   "metadata": {},
   "outputs": [
    {
     "name": "stdout",
     "output_type": "stream",
     "text": [
      "Perfect\n"
     ]
    }
   ],
   "source": [
    "def perfect(n):\n",
    "    sum=0\n",
    "    for i in range(1,n):\n",
    "        if n%i==0:\n",
    "            sum+=i\n",
    "    r=(sum+n)/2\n",
    "    if sum==r:\n",
    "        return \"Perfect\"\n",
    "    else:\n",
    "        return \"Not Perfect\"\n",
    "w=perfect(8128)\n",
    "print(w)"
   ]
  },
  {
   "cell_type": "markdown",
   "id": "ad6af9ec-f4dc-43ce-8bc4-a290670d28a3",
   "metadata": {},
   "source": [
    "# 12. Write a Python function that checks whether a passed string is a palindrome or not.\n",
    "      Note: A palindrome is a word, phrase, or sequence that reads the same backward as forward, e.g., madam or nurses run. "
   ]
  },
  {
   "cell_type": "code",
   "execution_count": 103,
   "id": "9e7e8ab4-6ead-472d-a74e-c0ec2824751b",
   "metadata": {},
   "outputs": [
    {
     "name": "stdout",
     "output_type": "stream",
     "text": [
      "Is Palindrome\n"
     ]
    }
   ],
   "source": [
    "def palindrome(s):\n",
    "    s = s.replace(\" \", \"\").lower()\n",
    "    if s==s[::-1]:\n",
    "        return \"Is Palindrome\"\n",
    "    else:\n",
    "        return \"Not Palindrome\"\n",
    "g=\"nurses run\"\n",
    "h=palindrome(g)\n",
    "print(h)"
   ]
  },
  {
   "cell_type": "code",
   "execution_count": null,
   "id": "7e8a82f9-6e3e-4b98-b95e-c7f984308534",
   "metadata": {},
   "outputs": [],
   "source": []
  }
 ],
 "metadata": {
  "kernelspec": {
   "display_name": "Python 3 (ipykernel)",
   "language": "python",
   "name": "python3"
  },
  "language_info": {
   "codemirror_mode": {
    "name": "ipython",
    "version": 3
   },
   "file_extension": ".py",
   "mimetype": "text/x-python",
   "name": "python",
   "nbconvert_exporter": "python",
   "pygments_lexer": "ipython3",
   "version": "3.12.7"
  }
 },
 "nbformat": 4,
 "nbformat_minor": 5
}
