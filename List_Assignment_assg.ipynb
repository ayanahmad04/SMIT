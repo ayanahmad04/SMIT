{
 "cells": [
  {
   "cell_type": "markdown",
   "id": "21d1780b",
   "metadata": {},
   "source": [
    "1. Write a program that accepts a list from user and print the alternate element of list."
   ]
  },
  {
   "cell_type": "code",
   "execution_count": null,
   "id": "58475328",
   "metadata": {},
   "outputs": [],
   "source": [
    "\n",
    "user_list = input(\"Enter a list of elements separated by spaces: \").split()\n",
    "print(\"Alternate elements of the list are:\", user_list[::2])\n",
    "    "
   ]
  },
  {
   "cell_type": "markdown",
   "id": "095484d7",
   "metadata": {},
   "source": [
    "2. Write a program that accepts a list from user. Your program should reverse the content of list and display it. Do not use reverse() method."
   ]
  },
  {
   "cell_type": "code",
   "execution_count": null,
   "id": "e8f72cc6",
   "metadata": {},
   "outputs": [],
   "source": [
    "\n",
    "user_list = input(\"Enter a list of elements separated by spaces: \").split()\n",
    "reversed_list = user_list[::-1]\n",
    "print(\"Reversed list:\", reversed_list)\n",
    "    "
   ]
  },
  {
   "cell_type": "markdown",
   "id": "dc6b7bb9",
   "metadata": {},
   "source": [
    "3. Find and display the largest number of a list without using built-in function max(). Your program should ask the user to input values in list from keyboard."
   ]
  },
  {
   "cell_type": "code",
   "execution_count": null,
   "id": "5884e2b7",
   "metadata": {},
   "outputs": [],
   "source": [
    "\n",
    "user_list = list(map(int, input(\"Enter numbers separated by spaces: \").split()))\n",
    "largest = user_list[0]\n",
    "for num in user_list:\n",
    "    if num > largest:\n",
    "        largest = num\n",
    "print(\"Largest number is:\", largest)\n",
    "    "
   ]
  },
  {
   "cell_type": "markdown",
   "id": "fec8f581",
   "metadata": {},
   "source": [
    "4. Write a program that rotates the element of a list so that the element at the first index moves to the second index, the element in the second index moves to the third index, etc., and the element in the last index moves to the first index."
   ]
  },
  {
   "cell_type": "code",
   "execution_count": null,
   "id": "7ff92e61",
   "metadata": {},
   "outputs": [],
   "source": [
    "\n",
    "user_list = input(\"Enter a list of elements separated by spaces: \").split()\n",
    "rotated_list = user_list[1:] + user_list[:1]\n",
    "print(\"Rotated list:\", rotated_list)\n",
    "    "
   ]
  },
  {
   "cell_type": "markdown",
   "id": "3f010765",
   "metadata": {},
   "source": [
    "5. Write a program that input a string and ask user to delete a given word from a string."
   ]
  },
  {
   "cell_type": "code",
   "execution_count": null,
   "id": "bbd0cd31",
   "metadata": {},
   "outputs": [],
   "source": [
    "\n",
    "string = input(\"Enter a string: \")\n",
    "word_to_delete = input(\"Enter the word to delete: \")\n",
    "modified_string = string.replace(word_to_delete, \"\")\n",
    "print(\"Modified string:\", modified_string)\n",
    "    "
   ]
  },
  {
   "cell_type": "markdown",
   "id": "0868c72d",
   "metadata": {},
   "source": [
    "6. Write a program that reads a string from the user containing a date in the form mm/dd/yyyy. It should print the date in the form March 12, 2021."
   ]
  },
  {
   "cell_type": "code",
   "execution_count": null,
   "id": "e1b6e79b",
   "metadata": {},
   "outputs": [],
   "source": [
    "\n",
    "date_input = input(\"Enter a date in the format mm/dd/yyyy: \")\n",
    "month_names = [\"January\", \"February\", \"March\", \"April\", \"May\", \"June\", \"July\", \"August\", \"September\", \"October\", \"November\", \"December\"]\n",
    "month, day, year = map(int, date_input.split(\"/\"))\n",
    "formatted_date = f\"{month_names[month - 1]} {day}, {year}\"\n",
    "print(\"Formatted date:\", formatted_date)\n",
    "    "
   ]
  },
  {
   "cell_type": "markdown",
   "id": "59d520d0",
   "metadata": {},
   "source": [
    "7. Write a program with a function that accepts a string from keyboard and create a new string after converting character of each word capitalized. For instance, if the sentence is \"stop and smell the roses.\" the output should be \"Stop And Smell The Roses\""
   ]
  },
  {
   "cell_type": "code",
   "execution_count": null,
   "id": "f290a263",
   "metadata": {},
   "outputs": [],
   "source": [
    "\n",
    "def capitalize_words(sentence):\n",
    "    return ' '.join(word.capitalize() for word in sentence.split())\n",
    "\n",
    "sentence = input(\"Enter a sentence: \")\n",
    "capitalized_sentence = capitalize_words(sentence)\n",
    "print(\"Capitalized sentence:\", capitalized_sentence)\n",
    "    "
   ]
  },
  {
   "cell_type": "markdown",
   "id": "c07e2743",
   "metadata": {},
   "source": [
    "8. Find the sum of each row of matrix of size m x n. For example for the following matrix output will be like this:\n",
    "   Sum of row 1 = 32\n",
    "   Sum of row 2 = 31\n",
    "   Sum of row 3 = 63"
   ]
  },
  {
   "cell_type": "code",
   "execution_count": null,
   "id": "8cf96313",
   "metadata": {},
   "outputs": [],
   "source": [
    "\n",
    "m, n = map(int, input(\"Enter number of rows and columns separated by space: \").split())\n",
    "matrix = []\n",
    "for i in range(m):\n",
    "    row = list(map(int, input(f\"Enter row {i+1} values separated by space: \").split()))\n",
    "    matrix.append(row)\n",
    "\n",
    "for i, row in enumerate(matrix):\n",
    "    print(f\"Sum of row {i+1} = {sum(row)}\")\n",
    "    "
   ]
  },
  {
   "cell_type": "markdown",
   "id": "34357bfb",
   "metadata": {},
   "source": [
    "9. Write a program to add two matrices of size n x m."
   ]
  },
  {
   "cell_type": "code",
   "execution_count": null,
   "id": "f4d1e8d5",
   "metadata": {},
   "outputs": [],
   "source": [
    "\n",
    "m, n = map(int, input(\"Enter number of rows and columns separated by space: \").split())\n",
    "print(\"Enter first matrix:\")\n",
    "matrix1 = [list(map(int, input().split())) for _ in range(m)]\n",
    "print(\"Enter second matrix:\")\n",
    "matrix2 = [list(map(int, input().split())) for _ in range(m)]\n",
    "\n",
    "result = [[matrix1[i][j] + matrix2[i][j] for j in range(n)] for i in range(m)]\n",
    "print(\"Sum of matrices:\")\n",
    "for row in result:\n",
    "    print(*row)\n",
    "    "
   ]
  },
  {
   "cell_type": "markdown",
   "id": "1d03ff11",
   "metadata": {},
   "source": [
    "10. Write a program to multiply two matrices."
   ]
  },
  {
   "cell_type": "code",
   "execution_count": null,
   "id": "39ba8ea0",
   "metadata": {},
   "outputs": [],
   "source": [
    "\n",
    "\n",
    "m, n = map(int, input(\"Enter number of rows and columns separated by space: \").split())\n",
    "print(\"Enter first matrix:\")\n",
    "matrix1 = [list(map(int, input().split())) for _ in range(m)]\n",
    "print(\"Enter second matrix:\")\n",
    "matrix2 = [list(map(int, input().split())) for _ in range(n)]\n",
    "\n",
    "result = [[sum(matrix1[i][k] * matrix2[k][j] for k in range(n)) for j in range(n)] for i in range(m)]\n",
    "print(\"Product of matrices:\")\n",
    "for row in result:\n",
    "    print(*row)\n",
    "    "
   ]
  }
 ],
 "metadata": {
  "kernelspec": {
   "display_name": "Python 3 (ipykernel)",
   "language": "python",
   "name": "python3"
  },
  "language_info": {
   "codemirror_mode": {
    "name": "ipython",
    "version": 3
   },
   "file_extension": ".py",
   "mimetype": "text/x-python",
   "name": "python",
   "nbconvert_exporter": "python",
   "pygments_lexer": "ipython3",
   "version": "3.12.7"
  }
 },
 "nbformat": 4,
 "nbformat_minor": 5
}
