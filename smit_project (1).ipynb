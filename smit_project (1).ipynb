{
 "cells": [
  {
   "cell_type": "code",
   "execution_count": 4,
   "id": "2ff9d3ff-32bf-4b6c-9920-f619e071b4ee",
   "metadata": {},
   "outputs": [
    {
     "name": "stdin",
     "output_type": "stream",
     "text": [
      "Enter Account Title:  aya\n",
      "\n",
      "Select an option (Enter the number of that option):\n",
      "                   1) Deposit \n",
      "                   2) Withdraw\n",
      "                   3) Check Balance \n",
      "                   4) Bank Statement\n",
      "                   0) Exit\n",
      "                   \n",
      "         1\n",
      "Enter amount to deposit :  12\n"
     ]
    },
    {
     "name": "stdout",
     "output_type": "stream",
     "text": [
      "aya deposited 12.0 into his account.\n"
     ]
    },
    {
     "name": "stdin",
     "output_type": "stream",
     "text": [
      "\n",
      "Select an option (Enter the number of that option):\n",
      "                   1) Deposit \n",
      "                   2) Withdraw\n",
      "                   3) Check Balance \n",
      "                   4) Bank Statement\n",
      "                   0) Exit\n",
      "                   \n",
      "         2\n",
      "Enter amount to withdraw : 3\n"
     ]
    },
    {
     "name": "stdout",
     "output_type": "stream",
     "text": [
      "aya withdraws 3.0 from his account.\n",
      "\n"
     ]
    },
    {
     "name": "stdin",
     "output_type": "stream",
     "text": [
      "\n",
      "Select an option (Enter the number of that option):\n",
      "                   1) Deposit \n",
      "                   2) Withdraw\n",
      "                   3) Check Balance \n",
      "                   4) Bank Statement\n",
      "                   0) Exit\n",
      "                   \n",
      "         3\n"
     ]
    },
    {
     "name": "stdout",
     "output_type": "stream",
     "text": [
      "Account Balance: 9.0\n"
     ]
    },
    {
     "name": "stdin",
     "output_type": "stream",
     "text": [
      "\n",
      "Select an option (Enter the number of that option):\n",
      "                   1) Deposit \n",
      "                   2) Withdraw\n",
      "                   3) Check Balance \n",
      "                   4) Bank Statement\n",
      "                   0) Exit\n",
      "                   \n",
      "         4\n"
     ]
    },
    {
     "name": "stdout",
     "output_type": "stream",
     "text": [
      "Account Statement for aya:\n",
      " - Deposit: 12.0 .New Balance: 12.0\n",
      " - Withdraw: 3.0. New Balance: 9.0\n"
     ]
    },
    {
     "name": "stdin",
     "output_type": "stream",
     "text": [
      "\n",
      "Select an option (Enter the number of that option):\n",
      "                   1) Deposit \n",
      "                   2) Withdraw\n",
      "                   3) Check Balance \n",
      "                   4) Bank Statement\n",
      "                   0) Exit\n",
      "                   \n",
      "         0\n"
     ]
    },
    {
     "name": "stdout",
     "output_type": "stream",
     "text": [
      "Thanks for using this bank :)\n"
     ]
    }
   ],
   "source": [
    "acc_title = input('Enter Account Title: ')\n",
    "account = {\n",
    "    'name': acc_title,\n",
    "    'balance': 0.0,\n",
    "    'transactions': []\n",
    "}\n",
    "\n",
    "\n",
    "with open('transactionsss.txt', 'w') as tx:\n",
    "    tx.write('')  \n",
    "\n",
    "def deposit(d):\n",
    "    try:\n",
    "        d = float(d)\n",
    "        if d > 0:\n",
    "            account['balance'] += d\n",
    "            with open('transactionsss.txt', 'a') as tx:\n",
    "                tx.write(f'Deposit: {d} .New Balance: {account['balance']}\\n')\n",
    "            print(f'{account[\"name\"]} deposited {d} into his account.')\n",
    "        else:\n",
    "            print('Enter a positive number.')\n",
    "    except ValueError:\n",
    "        print('Enter a numeric value.')\n",
    "\n",
    "def withdraw(w):\n",
    "    try:\n",
    "        w = float(w)\n",
    "        if w > 0:\n",
    "            if account['balance'] >= w:\n",
    "                account['balance'] -= w\n",
    "                with open('transactionsss.txt', 'a') as tx:\n",
    "                    tx.write(f'Withdraw: {w}. New Balance: {account['balance']}\\n')\n",
    "                print(f'{account[\"name\"]} withdraws {w} from his account.\\n')\n",
    "            else:\n",
    "                print('Insufficient balance.')\n",
    "        else:\n",
    "            print('Enter a positive number.')\n",
    "    except ValueError:\n",
    "        print('Enter a numeric value.')\n",
    "\n",
    "def check_balance():\n",
    "    print(f'Account Balance: {account[\"balance\"]}')\n",
    "    \n",
    "def print_transactions():\n",
    "    try :\n",
    "        print(f'Account Statement for {account['name']}:')\n",
    "        with open('transactionsss.txt') as tx:\n",
    "            for line in tx:\n",
    "                print(f' - {line}', end='')\n",
    "    except Exception as e:\n",
    "        print(f'An error {e} occured')\n",
    "    \n",
    "while True:\n",
    "    try:\n",
    "        x=input('''\\nSelect an option (Enter the number of that option):\n",
    "                   1) Deposit \n",
    "                   2) Withdraw\n",
    "                   3) Check Balance \n",
    "                   4) Bank Statement\n",
    "                   0) Exit\n",
    "                   \n",
    "        ''')\n",
    "        if (x=='1'):\n",
    "            d=input('Enter amount to deposit : ')\n",
    "            deposit(d)\n",
    "        elif (x=='2'):\n",
    "            w=input('Enter amount to withdraw :')\n",
    "            withdraw(w)\n",
    "        elif (x=='3'):\n",
    "            check_balance()\n",
    "        elif (x=='4'):\n",
    "            print_transactions()\n",
    "        elif (x=='0'):\n",
    "            print('Thanks for using this bank :)')\n",
    "            break\n",
    "        else:\n",
    "            print('Invalid option')\n",
    "    except Exception as e:\n",
    "        print(f'An error {e} occured')\n",
    "    \n",
    "\n"
   ]
  },
  {
   "cell_type": "code",
   "execution_count": null,
   "id": "4df7955f-4c98-4fb4-b5f3-a2bd841a2ecf",
   "metadata": {},
   "outputs": [],
   "source": []
  }
 ],
 "metadata": {
  "kernelspec": {
   "display_name": "Python 3 (ipykernel)",
   "language": "python",
   "name": "python3"
  },
  "language_info": {
   "codemirror_mode": {
    "name": "ipython",
    "version": 3
   },
   "file_extension": ".py",
   "mimetype": "text/x-python",
   "name": "python",
   "nbconvert_exporter": "python",
   "pygments_lexer": "ipython3",
   "version": "3.12.7"
  }
 },
 "nbformat": 4,
 "nbformat_minor": 5
}
